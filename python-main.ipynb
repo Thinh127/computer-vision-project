{
 "cells": [
  {
   "cell_type": "code",
   "execution_count": 1,
   "id": "3ffe1552",
   "metadata": {
    "execution": {
     "iopub.execute_input": "2022-12-17T08:14:57.600704Z",
     "iopub.status.busy": "2022-12-17T08:14:57.600112Z",
     "iopub.status.idle": "2022-12-17T08:14:59.589381Z",
     "shell.execute_reply": "2022-12-17T08:14:59.588234Z"
    },
    "papermill": {
     "duration": 1.99665,
     "end_time": "2022-12-17T08:14:59.592059",
     "exception": false,
     "start_time": "2022-12-17T08:14:57.595409",
     "status": "completed"
    },
    "tags": []
   },
   "outputs": [],
   "source": [
    "import matplotlib.pyplot as plt\n",
    "import numpy as np\n",
    "import pandas as pd\n",
    "import json\n",
    "\n",
    "from torch.utils.data import DataLoader\n",
    "from torchvision import datasets\n",
    "from torch.optim import Adam\n",
    "import torch.nn.functional as F\n",
    "import torchvision.models as models\n",
    "import torch\n",
    "\n",
    "from trainer import train, model\n",
    "from colorize_dataloader import ColorizeDataLoader\n",
    "from chromagan_utils import *\n",
    "from discriminator import Discriminator\n",
    "from colorization import Colorization\n",
    "\n",
    "import config\n",
    "import os\n",
    "from tqdm import tqdm"
   ]
  },
  {
   "cell_type": "code",
   "execution_count": 2,
   "id": "6219e350",
   "metadata": {
    "execution": {
     "iopub.execute_input": "2022-12-17T08:14:59.597640Z",
     "iopub.status.busy": "2022-12-17T08:14:59.596447Z",
     "iopub.status.idle": "2022-12-17T08:14:59.601876Z",
     "shell.execute_reply": "2022-12-17T08:14:59.601009Z"
    },
    "papermill": {
     "duration": 0.01001,
     "end_time": "2022-12-17T08:14:59.604027",
     "exception": false,
     "start_time": "2022-12-17T08:14:59.594017",
     "status": "completed"
    },
    "tags": []
   },
   "outputs": [],
   "source": [
    "config.BATCH_SIZE = 64\n",
    "\n",
    "config.LR = 2e-4\n",
    "\n",
    "config.CHECK_PER = 1000\n",
    "\n",
    "config.EPOCHS = 20"
   ]
  },
  {
   "cell_type": "code",
   "execution_count": 3,
   "id": "40c8f69d",
   "metadata": {
    "execution": {
     "iopub.execute_input": "2022-12-17T08:14:59.608216Z",
     "iopub.status.busy": "2022-12-17T08:14:59.607939Z",
     "iopub.status.idle": "2022-12-17T16:48:10.299752Z",
     "shell.execute_reply": "2022-12-17T16:48:10.298558Z"
    },
    "papermill": {
     "duration": 30791.094074,
     "end_time": "2022-12-17T16:48:10.699723",
     "exception": false,
     "start_time": "2022-12-17T08:14:59.605649",
     "status": "completed"
    },
    "tags": []
   },
   "outputs": [
    {
     "name": "stdout",
     "output_type": "stream",
     "text": [
      "Start training...\n",
      "------------------------------\n"
     ]
    },
    {
     "name": "stderr",
     "output_type": "stream",
     "text": [
      "Downloading: \"https://download.pytorch.org/models/vgg16-397923af.pth\" to /root/.cache/torch/hub/checkpoints/vgg16-397923af.pth\n"
     ]
    },
    {
     "data": {
      "application/vnd.jupyter.widget-view+json": {
       "model_id": "1ead7b66879b449293b953fe2c8107bd",
       "version_major": 2,
       "version_minor": 0
      },
      "text/plain": [
       "  0%|          | 0.00/528M [00:00<?, ?B/s]"
      ]
     },
     "metadata": {},
     "output_type": "display_data"
    },
    {
     "name": "stdout",
     "output_type": "stream",
     "text": [
      "EPOCH 0 / 20\n",
      "------------------------------\n"
     ]
    },
    {
     "name": "stderr",
     "output_type": "stream",
     "text": [
      "  0%|          | 1/1015 [00:09<2:35:23,  9.19s/it]"
     ]
    },
    {
     "name": "stdout",
     "output_type": "stream",
     "text": [
      "\n",
      "\n",
      "Epoch 0 - Batch 0 - Loss G: -0.04710736870765686 - Loss D: 7.978069305419922\n"
     ]
    },
    {
     "name": "stderr",
     "output_type": "stream",
     "text": [
      " 99%|█████████▊| 1001/1015 [25:22<00:21,  1.51s/it]"
     ]
    },
    {
     "name": "stdout",
     "output_type": "stream",
     "text": [
      "\n",
      "\n",
      "Epoch 0 - Batch 1000 - Loss G: -0.04985805228352547 - Loss D: 12.356473922729492\n"
     ]
    },
    {
     "name": "stderr",
     "output_type": "stream",
     "text": [
      "100%|██████████| 1015/1015 [25:43<00:00,  1.52s/it]\n"
     ]
    },
    {
     "name": "stdout",
     "output_type": "stream",
     "text": [
      "EPOCH 1 / 20\n",
      "------------------------------\n"
     ]
    },
    {
     "name": "stderr",
     "output_type": "stream",
     "text": [
      "  0%|          | 1/1015 [00:02<36:19,  2.15s/it]"
     ]
    },
    {
     "name": "stdout",
     "output_type": "stream",
     "text": [
      "\n",
      "\n",
      "Epoch 1 - Batch 0 - Loss G: -0.050329048186540604 - Loss D: 10.235718727111816\n"
     ]
    },
    {
     "name": "stderr",
     "output_type": "stream",
     "text": [
      " 99%|█████████▊| 1001/1015 [25:12<00:21,  1.51s/it]"
     ]
    },
    {
     "name": "stdout",
     "output_type": "stream",
     "text": [
      "\n",
      "\n",
      "Epoch 1 - Batch 1000 - Loss G: -0.05173742398619652 - Loss D: 31.796648025512695\n"
     ]
    },
    {
     "name": "stderr",
     "output_type": "stream",
     "text": [
      "100%|██████████| 1015/1015 [25:33<00:00,  1.51s/it]\n"
     ]
    },
    {
     "name": "stdout",
     "output_type": "stream",
     "text": [
      "EPOCH 2 / 20\n",
      "------------------------------\n"
     ]
    },
    {
     "name": "stderr",
     "output_type": "stream",
     "text": [
      "  0%|          | 1/1015 [00:02<37:13,  2.20s/it]"
     ]
    },
    {
     "name": "stdout",
     "output_type": "stream",
     "text": [
      "\n",
      "\n",
      "Epoch 2 - Batch 0 - Loss G: -0.05210607126355171 - Loss D: 76.79927062988281\n"
     ]
    },
    {
     "name": "stderr",
     "output_type": "stream",
     "text": [
      " 99%|█████████▊| 1001/1015 [25:13<00:21,  1.51s/it]"
     ]
    },
    {
     "name": "stdout",
     "output_type": "stream",
     "text": [
      "\n",
      "\n",
      "Epoch 2 - Batch 1000 - Loss G: -0.0547487735748291 - Loss D: 134.69805908203125\n"
     ]
    },
    {
     "name": "stderr",
     "output_type": "stream",
     "text": [
      "100%|██████████| 1015/1015 [25:35<00:00,  1.51s/it]\n"
     ]
    },
    {
     "name": "stdout",
     "output_type": "stream",
     "text": [
      "EPOCH 3 / 20\n",
      "------------------------------\n"
     ]
    },
    {
     "name": "stderr",
     "output_type": "stream",
     "text": [
      "  0%|          | 1/1015 [00:02<36:38,  2.17s/it]"
     ]
    },
    {
     "name": "stdout",
     "output_type": "stream",
     "text": [
      "\n",
      "\n",
      "Epoch 3 - Batch 0 - Loss G: -0.054792165756225586 - Loss D: 14.481565475463867\n"
     ]
    },
    {
     "name": "stderr",
     "output_type": "stream",
     "text": [
      " 99%|█████████▊| 1001/1015 [25:12<00:21,  1.51s/it]"
     ]
    },
    {
     "name": "stdout",
     "output_type": "stream",
     "text": [
      "\n",
      "\n",
      "Epoch 3 - Batch 1000 - Loss G: -0.05562184378504753 - Loss D: 168.99488830566406\n"
     ]
    },
    {
     "name": "stderr",
     "output_type": "stream",
     "text": [
      "100%|██████████| 1015/1015 [25:34<00:00,  1.51s/it]\n"
     ]
    },
    {
     "name": "stdout",
     "output_type": "stream",
     "text": [
      "EPOCH 4 / 20\n",
      "------------------------------\n"
     ]
    },
    {
     "name": "stderr",
     "output_type": "stream",
     "text": [
      "  0%|          | 1/1015 [00:02<36:53,  2.18s/it]"
     ]
    },
    {
     "name": "stdout",
     "output_type": "stream",
     "text": [
      "\n",
      "\n",
      "Epoch 4 - Batch 0 - Loss G: -0.056369487196207047 - Loss D: 122.97308349609375\n"
     ]
    },
    {
     "name": "stderr",
     "output_type": "stream",
     "text": [
      " 99%|█████████▊| 1001/1015 [25:13<00:21,  1.51s/it]"
     ]
    },
    {
     "name": "stdout",
     "output_type": "stream",
     "text": [
      "\n",
      "\n",
      "Epoch 4 - Batch 1000 - Loss G: -0.05846920609474182 - Loss D: 408.9862060546875\n"
     ]
    },
    {
     "name": "stderr",
     "output_type": "stream",
     "text": [
      "100%|██████████| 1015/1015 [25:34<00:00,  1.51s/it]\n"
     ]
    },
    {
     "name": "stdout",
     "output_type": "stream",
     "text": [
      "EPOCH 5 / 20\n",
      "------------------------------\n"
     ]
    },
    {
     "name": "stderr",
     "output_type": "stream",
     "text": [
      "  0%|          | 1/1015 [00:02<35:53,  2.12s/it]"
     ]
    },
    {
     "name": "stdout",
     "output_type": "stream",
     "text": [
      "\n",
      "\n",
      "Epoch 5 - Batch 0 - Loss G: -0.058238450437784195 - Loss D: 185.26266479492188\n"
     ]
    },
    {
     "name": "stderr",
     "output_type": "stream",
     "text": [
      " 99%|█████████▊| 1001/1015 [25:14<00:21,  1.51s/it]"
     ]
    },
    {
     "name": "stdout",
     "output_type": "stream",
     "text": [
      "\n",
      "\n",
      "Epoch 5 - Batch 1000 - Loss G: -0.06059770658612251 - Loss D: 421.0057678222656\n"
     ]
    },
    {
     "name": "stderr",
     "output_type": "stream",
     "text": [
      "100%|██████████| 1015/1015 [25:35<00:00,  1.51s/it]\n"
     ]
    },
    {
     "name": "stdout",
     "output_type": "stream",
     "text": [
      "EPOCH 6 / 20\n",
      "------------------------------\n"
     ]
    },
    {
     "name": "stderr",
     "output_type": "stream",
     "text": [
      "  0%|          | 1/1015 [00:02<35:49,  2.12s/it]"
     ]
    },
    {
     "name": "stdout",
     "output_type": "stream",
     "text": [
      "\n",
      "\n",
      "Epoch 6 - Batch 0 - Loss G: -0.06123967096209526 - Loss D: 839.8206176757812\n"
     ]
    },
    {
     "name": "stderr",
     "output_type": "stream",
     "text": [
      " 99%|█████████▊| 1001/1015 [25:16<00:21,  1.51s/it]"
     ]
    },
    {
     "name": "stdout",
     "output_type": "stream",
     "text": [
      "\n",
      "\n",
      "Epoch 6 - Batch 1000 - Loss G: -0.062022242695093155 - Loss D: 182.1307373046875\n"
     ]
    },
    {
     "name": "stderr",
     "output_type": "stream",
     "text": [
      "100%|██████████| 1015/1015 [25:37<00:00,  1.51s/it]\n"
     ]
    },
    {
     "name": "stdout",
     "output_type": "stream",
     "text": [
      "EPOCH 7 / 20\n",
      "------------------------------\n"
     ]
    },
    {
     "name": "stderr",
     "output_type": "stream",
     "text": [
      "  0%|          | 1/1015 [00:02<36:34,  2.16s/it]"
     ]
    },
    {
     "name": "stdout",
     "output_type": "stream",
     "text": [
      "\n",
      "\n",
      "Epoch 7 - Batch 0 - Loss G: -0.0627996027469635 - Loss D: 448.4935607910156\n"
     ]
    },
    {
     "name": "stderr",
     "output_type": "stream",
     "text": [
      " 99%|█████████▊| 1001/1015 [25:15<00:21,  1.51s/it]"
     ]
    },
    {
     "name": "stdout",
     "output_type": "stream",
     "text": [
      "\n",
      "\n",
      "Epoch 7 - Batch 1000 - Loss G: -0.06473090499639511 - Loss D: 794.6234741210938\n"
     ]
    },
    {
     "name": "stderr",
     "output_type": "stream",
     "text": [
      "100%|██████████| 1015/1015 [25:36<00:00,  1.51s/it]\n"
     ]
    },
    {
     "name": "stdout",
     "output_type": "stream",
     "text": [
      "EPOCH 8 / 20\n",
      "------------------------------\n"
     ]
    },
    {
     "name": "stderr",
     "output_type": "stream",
     "text": [
      "  0%|          | 1/1015 [00:02<36:01,  2.13s/it]"
     ]
    },
    {
     "name": "stdout",
     "output_type": "stream",
     "text": [
      "\n",
      "\n",
      "Epoch 8 - Batch 0 - Loss G: -0.06473022699356079 - Loss D: 307.7962951660156\n"
     ]
    },
    {
     "name": "stderr",
     "output_type": "stream",
     "text": [
      " 99%|█████████▊| 1001/1015 [25:15<00:21,  1.51s/it]"
     ]
    },
    {
     "name": "stdout",
     "output_type": "stream",
     "text": [
      "\n",
      "\n",
      "Epoch 8 - Batch 1000 - Loss G: -0.06720874458551407 - Loss D: 1960.23193359375\n"
     ]
    },
    {
     "name": "stderr",
     "output_type": "stream",
     "text": [
      "100%|██████████| 1015/1015 [25:36<00:00,  1.51s/it]\n"
     ]
    },
    {
     "name": "stdout",
     "output_type": "stream",
     "text": [
      "EPOCH 9 / 20\n",
      "------------------------------\n"
     ]
    },
    {
     "name": "stderr",
     "output_type": "stream",
     "text": [
      "  0%|          | 1/1015 [00:02<35:48,  2.12s/it]"
     ]
    },
    {
     "name": "stdout",
     "output_type": "stream",
     "text": [
      "\n",
      "\n",
      "Epoch 9 - Batch 0 - Loss G: -0.06641358882188797 - Loss D: 403.0783386230469\n"
     ]
    },
    {
     "name": "stderr",
     "output_type": "stream",
     "text": [
      " 99%|█████████▊| 1001/1015 [25:14<00:21,  1.52s/it]"
     ]
    },
    {
     "name": "stdout",
     "output_type": "stream",
     "text": [
      "\n",
      "\n",
      "Epoch 9 - Batch 1000 - Loss G: -0.06857466697692871 - Loss D: 2967.990966796875\n"
     ]
    },
    {
     "name": "stderr",
     "output_type": "stream",
     "text": [
      "100%|██████████| 1015/1015 [25:35<00:00,  1.51s/it]\n"
     ]
    },
    {
     "name": "stdout",
     "output_type": "stream",
     "text": [
      "EPOCH 10 / 20\n",
      "------------------------------\n"
     ]
    },
    {
     "name": "stderr",
     "output_type": "stream",
     "text": [
      "  0%|          | 1/1015 [00:02<36:56,  2.19s/it]"
     ]
    },
    {
     "name": "stdout",
     "output_type": "stream",
     "text": [
      "\n",
      "\n",
      "Epoch 10 - Batch 0 - Loss G: -0.06837521493434906 - Loss D: 1176.7900390625\n"
     ]
    },
    {
     "name": "stderr",
     "output_type": "stream",
     "text": [
      " 99%|█████████▊| 1001/1015 [25:15<00:21,  1.51s/it]"
     ]
    },
    {
     "name": "stdout",
     "output_type": "stream",
     "text": [
      "\n",
      "\n",
      "Epoch 10 - Batch 1000 - Loss G: -0.0700676217675209 - Loss D: 3725.48681640625\n"
     ]
    },
    {
     "name": "stderr",
     "output_type": "stream",
     "text": [
      "100%|██████████| 1015/1015 [25:36<00:00,  1.51s/it]\n"
     ]
    },
    {
     "name": "stdout",
     "output_type": "stream",
     "text": [
      "EPOCH 11 / 20\n",
      "------------------------------\n"
     ]
    },
    {
     "name": "stderr",
     "output_type": "stream",
     "text": [
      "  0%|          | 1/1015 [00:02<35:49,  2.12s/it]"
     ]
    },
    {
     "name": "stdout",
     "output_type": "stream",
     "text": [
      "\n",
      "\n",
      "Epoch 11 - Batch 0 - Loss G: -0.06995363533496857 - Loss D: 2382.89453125\n"
     ]
    },
    {
     "name": "stderr",
     "output_type": "stream",
     "text": [
      " 99%|█████████▊| 1001/1015 [25:14<00:21,  1.51s/it]"
     ]
    },
    {
     "name": "stdout",
     "output_type": "stream",
     "text": [
      "\n",
      "\n",
      "Epoch 11 - Batch 1000 - Loss G: -0.07110890001058578 - Loss D: 10842.091796875\n"
     ]
    },
    {
     "name": "stderr",
     "output_type": "stream",
     "text": [
      "100%|██████████| 1015/1015 [25:35<00:00,  1.51s/it]\n"
     ]
    },
    {
     "name": "stdout",
     "output_type": "stream",
     "text": [
      "EPOCH 12 / 20\n",
      "------------------------------\n"
     ]
    },
    {
     "name": "stderr",
     "output_type": "stream",
     "text": [
      "  0%|          | 1/1015 [00:02<36:04,  2.13s/it]"
     ]
    },
    {
     "name": "stdout",
     "output_type": "stream",
     "text": [
      "\n",
      "\n",
      "Epoch 12 - Batch 0 - Loss G: -0.07116997241973877 - Loss D: 2049.719970703125\n"
     ]
    },
    {
     "name": "stderr",
     "output_type": "stream",
     "text": [
      " 99%|█████████▊| 1001/1015 [25:12<00:21,  1.51s/it]"
     ]
    },
    {
     "name": "stdout",
     "output_type": "stream",
     "text": [
      "\n",
      "\n",
      "Epoch 12 - Batch 1000 - Loss G: -0.07256433367729187 - Loss D: 7400.2275390625\n"
     ]
    },
    {
     "name": "stderr",
     "output_type": "stream",
     "text": [
      "100%|██████████| 1015/1015 [25:34<00:00,  1.51s/it]\n"
     ]
    },
    {
     "name": "stdout",
     "output_type": "stream",
     "text": [
      "EPOCH 13 / 20\n",
      "------------------------------\n"
     ]
    },
    {
     "name": "stderr",
     "output_type": "stream",
     "text": [
      "  0%|          | 1/1015 [00:02<37:09,  2.20s/it]"
     ]
    },
    {
     "name": "stdout",
     "output_type": "stream",
     "text": [
      "\n",
      "\n",
      "Epoch 13 - Batch 0 - Loss G: -0.07277897745370865 - Loss D: 7272.1435546875\n"
     ]
    },
    {
     "name": "stderr",
     "output_type": "stream",
     "text": [
      " 99%|█████████▊| 1001/1015 [25:11<00:21,  1.51s/it]"
     ]
    },
    {
     "name": "stdout",
     "output_type": "stream",
     "text": [
      "\n",
      "\n",
      "Epoch 13 - Batch 1000 - Loss G: -0.0743836984038353 - Loss D: 5441.52587890625\n"
     ]
    },
    {
     "name": "stderr",
     "output_type": "stream",
     "text": [
      "100%|██████████| 1015/1015 [25:32<00:00,  1.51s/it]\n"
     ]
    },
    {
     "name": "stdout",
     "output_type": "stream",
     "text": [
      "EPOCH 14 / 20\n",
      "------------------------------\n"
     ]
    },
    {
     "name": "stderr",
     "output_type": "stream",
     "text": [
      "  0%|          | 1/1015 [00:02<35:52,  2.12s/it]"
     ]
    },
    {
     "name": "stdout",
     "output_type": "stream",
     "text": [
      "\n",
      "\n",
      "Epoch 14 - Batch 0 - Loss G: -0.07413482666015625 - Loss D: 18372.07421875\n"
     ]
    },
    {
     "name": "stderr",
     "output_type": "stream",
     "text": [
      " 99%|█████████▊| 1001/1015 [25:11<00:21,  1.51s/it]"
     ]
    },
    {
     "name": "stdout",
     "output_type": "stream",
     "text": [
      "\n",
      "\n",
      "Epoch 14 - Batch 1000 - Loss G: -0.07516762614250183 - Loss D: 11298.109375\n"
     ]
    },
    {
     "name": "stderr",
     "output_type": "stream",
     "text": [
      "100%|██████████| 1015/1015 [25:33<00:00,  1.51s/it]\n"
     ]
    },
    {
     "name": "stdout",
     "output_type": "stream",
     "text": [
      "EPOCH 15 / 20\n",
      "------------------------------\n"
     ]
    },
    {
     "name": "stderr",
     "output_type": "stream",
     "text": [
      "  0%|          | 1/1015 [00:02<44:11,  2.61s/it]"
     ]
    },
    {
     "name": "stdout",
     "output_type": "stream",
     "text": [
      "\n",
      "\n",
      "Epoch 15 - Batch 0 - Loss G: -0.07578437030315399 - Loss D: 3198.296630859375\n"
     ]
    },
    {
     "name": "stderr",
     "output_type": "stream",
     "text": [
      " 99%|█████████▊| 1001/1015 [25:13<00:21,  1.51s/it]"
     ]
    },
    {
     "name": "stdout",
     "output_type": "stream",
     "text": [
      "\n",
      "\n",
      "Epoch 15 - Batch 1000 - Loss G: -0.07686832547187805 - Loss D: 9936.251953125\n"
     ]
    },
    {
     "name": "stderr",
     "output_type": "stream",
     "text": [
      "100%|██████████| 1015/1015 [25:34<00:00,  1.51s/it]\n"
     ]
    },
    {
     "name": "stdout",
     "output_type": "stream",
     "text": [
      "EPOCH 16 / 20\n",
      "------------------------------\n"
     ]
    },
    {
     "name": "stderr",
     "output_type": "stream",
     "text": [
      "  0%|          | 1/1015 [00:02<36:24,  2.15s/it]"
     ]
    },
    {
     "name": "stdout",
     "output_type": "stream",
     "text": [
      "\n",
      "\n",
      "Epoch 16 - Batch 0 - Loss G: -0.07592847943305969 - Loss D: 6605.22900390625\n"
     ]
    },
    {
     "name": "stderr",
     "output_type": "stream",
     "text": [
      " 99%|█████████▊| 1001/1015 [25:11<00:21,  1.50s/it]"
     ]
    },
    {
     "name": "stdout",
     "output_type": "stream",
     "text": [
      "\n",
      "\n",
      "Epoch 16 - Batch 1000 - Loss G: -0.07738737761974335 - Loss D: 26443.34765625\n"
     ]
    },
    {
     "name": "stderr",
     "output_type": "stream",
     "text": [
      "100%|██████████| 1015/1015 [25:32<00:00,  1.51s/it]\n"
     ]
    },
    {
     "name": "stdout",
     "output_type": "stream",
     "text": [
      "EPOCH 17 / 20\n",
      "------------------------------\n"
     ]
    },
    {
     "name": "stderr",
     "output_type": "stream",
     "text": [
      "  0%|          | 1/1015 [00:02<36:26,  2.16s/it]"
     ]
    },
    {
     "name": "stdout",
     "output_type": "stream",
     "text": [
      "\n",
      "\n",
      "Epoch 17 - Batch 0 - Loss G: -0.07752510160207748 - Loss D: 13942.6474609375\n"
     ]
    },
    {
     "name": "stderr",
     "output_type": "stream",
     "text": [
      " 99%|█████████▊| 1001/1015 [25:13<00:21,  1.51s/it]"
     ]
    },
    {
     "name": "stdout",
     "output_type": "stream",
     "text": [
      "\n",
      "\n",
      "Epoch 17 - Batch 1000 - Loss G: -0.07885569334030151 - Loss D: 18338.666015625\n"
     ]
    },
    {
     "name": "stderr",
     "output_type": "stream",
     "text": [
      "100%|██████████| 1015/1015 [25:35<00:00,  1.51s/it]\n"
     ]
    },
    {
     "name": "stdout",
     "output_type": "stream",
     "text": [
      "EPOCH 18 / 20\n",
      "------------------------------\n"
     ]
    },
    {
     "name": "stderr",
     "output_type": "stream",
     "text": [
      "  0%|          | 1/1015 [00:02<36:12,  2.14s/it]"
     ]
    },
    {
     "name": "stdout",
     "output_type": "stream",
     "text": [
      "\n",
      "\n",
      "Epoch 18 - Batch 0 - Loss G: -0.07872965186834335 - Loss D: 14763.6787109375\n"
     ]
    },
    {
     "name": "stderr",
     "output_type": "stream",
     "text": [
      " 99%|█████████▊| 1001/1015 [25:13<00:21,  1.52s/it]"
     ]
    },
    {
     "name": "stdout",
     "output_type": "stream",
     "text": [
      "\n",
      "\n",
      "Epoch 18 - Batch 1000 - Loss G: -0.0798245444893837 - Loss D: 37765.0234375\n"
     ]
    },
    {
     "name": "stderr",
     "output_type": "stream",
     "text": [
      "100%|██████████| 1015/1015 [25:34<00:00,  1.51s/it]\n"
     ]
    },
    {
     "name": "stdout",
     "output_type": "stream",
     "text": [
      "EPOCH 19 / 20\n",
      "------------------------------\n"
     ]
    },
    {
     "name": "stderr",
     "output_type": "stream",
     "text": [
      "  0%|          | 1/1015 [00:02<35:57,  2.13s/it]"
     ]
    },
    {
     "name": "stdout",
     "output_type": "stream",
     "text": [
      "\n",
      "\n",
      "Epoch 19 - Batch 0 - Loss G: -0.07930710166692734 - Loss D: 26836.212890625\n"
     ]
    },
    {
     "name": "stderr",
     "output_type": "stream",
     "text": [
      " 99%|█████████▊| 1001/1015 [25:14<00:21,  1.51s/it]"
     ]
    },
    {
     "name": "stdout",
     "output_type": "stream",
     "text": [
      "\n",
      "\n",
      "Epoch 19 - Batch 1000 - Loss G: -0.080509714782238 - Loss D: 23604.021484375\n"
     ]
    },
    {
     "name": "stderr",
     "output_type": "stream",
     "text": [
      "100%|██████████| 1015/1015 [25:35<00:00,  1.51s/it]\n"
     ]
    },
    {
     "data": {
      "image/png": "[encoded data removed]",
      "text/plain": [
       "<Figure size 432x288 with 1 Axes>"
      ]
     },
     "metadata": {
      "needs_background": "light"
     },
     "output_type": "display_data"
    },
    {
     "name": "stdout",
     "output_type": "stream",
     "text": [
      "Saving metrics successfully!\n",
      "------------------------------\n",
      "Training done!\n",
      "------------------------------\n",
      "Start testing...\n",
      "------------------------------\n",
      "0 / 15\n",
      "gray shape: torch.Size([64, 1, 224, 224])\n",
      "ori_ab shape: torch.Size([64, 2, 224, 224])\n",
      "[tensor([256, 256, 256, 256, 256, 256, 256, 256, 256, 256, 256, 256, 256, 256,\n",
      "        256, 256, 256, 256, 256, 256, 256, 256, 256, 256, 256, 256, 256, 256,\n",
      "        256, 256, 256, 256, 256, 256, 256, 256, 256, 256, 256, 256, 256, 256,\n",
      "        256, 256, 256, 256, 256, 256, 256, 256, 256, 256, 256, 256, 256, 256,\n",
      "        256, 256, 256, 256, 256, 256, 256, 256]), tensor([256, 256, 256, 256, 256, 256, 256, 256, 256, 256, 256, 256, 256, 256,\n",
      "        256, 256, 256, 256, 256, 256, 256, 256, 256, 256, 256, 256, 256, 256,\n",
      "        256, 256, 256, 256, 256, 256, 256, 256, 256, 256, 256, 256, 256, 256,\n",
      "        256, 256, 256, 256, 256, 256, 256, 256, 256, 256, 256, 256, 256, 256,\n",
      "        256, 256, 256, 256, 256, 256, 256, 256]), tensor([3, 3, 3, 3, 3, 3, 3, 3, 3, 3, 3, 3, 3, 3, 3, 3, 3, 3, 3, 3, 3, 3, 3, 3,\n",
      "        3, 3, 3, 3, 3, 3, 3, 3, 3, 3, 3, 3, 3, 3, 3, 3, 3, 3, 3, 3, 3, 3, 3, 3,\n",
      "        3, 3, 3, 3, 3, 3, 3, 3, 3, 3, 3, 3, 3, 3, 3, 3])]\n",
      "Sampling images\n"
     ]
    },
    {
     "name": "stderr",
     "output_type": "stream",
     "text": [
      "  0%|          | 0/15 [00:00<?, ?it/s]"
     ]
    },
    {
     "name": "stdout",
     "output_type": "stream",
     "text": [
      "originalResult_red shape:  (224, 224, 3)\n",
      "originalResult_red shape:  (224, 224, 3)\n",
      "originalResult_red shape:  (224, 224, 3)\n",
      "originalResult_red shape:  (224, 224, 3)\n",
      "originalResult_red shape:  (224, 224, 3)\n",
      "originalResult_red shape:  (224, 224, 3)\n",
      "originalResult_red shape:  (224, 224, 3)\n",
      "originalResult_red shape:  (224, 224, 3)\n",
      "originalResult_red shape:  (224, 224, 3)\n",
      "originalResult_red shape:  (224, 224, 3)\n",
      "originalResult_red shape:  (224, 224, 3)\n",
      "originalResult_red shape:  (224, 224, 3)\n",
      "originalResult_red shape:  (224, 224, 3)\n",
      "originalResult_red shape:  (224, 224, 3)\n",
      "originalResult_red shape:  (224, 224, 3)\n",
      "originalResult_red shape:  (224, 224, 3)\n",
      "originalResult_red shape:  (224, 224, 3)\n",
      "originalResult_red shape:  (224, 224, 3)\n",
      "originalResult_red shape:  (224, 224, 3)\n",
      "originalResult_red shape:  (224, 224, 3)\n",
      "originalResult_red shape:  (224, 224, 3)\n",
      "originalResult_red shape:  (224, 224, 3)\n",
      "originalResult_red shape:  (224, 224, 3)\n",
      "originalResult_red shape:  (224, 224, 3)\n",
      "originalResult_red shape:  (224, 224, 3)\n",
      "originalResult_red shape:  (224, 224, 3)\n",
      "originalResult_red shape:  (224, 224, 3)\n",
      "originalResult_red shape:  (224, 224, 3)\n",
      "originalResult_red shape:  (224, 224, 3)\n",
      "originalResult_red shape:  (224, 224, 3)\n",
      "originalResult_red shape:  (224, 224, 3)\n",
      "originalResult_red shape:  (224, 224, 3)\n",
      "originalResult_red shape:  (224, 224, 3)\n",
      "originalResult_red shape:  (224, 224, 3)\n",
      "originalResult_red shape:  (224, 224, 3)\n",
      "originalResult_red shape:  (224, 224, 3)\n",
      "originalResult_red shape:  (224, 224, 3)\n",
      "originalResult_red shape:  (224, 224, 3)\n",
      "originalResult_red shape:  (224, 224, 3)\n",
      "originalResult_red shape:  (224, 224, 3)\n",
      "originalResult_red shape:  (224, 224, 3)\n",
      "originalResult_red shape:  (224, 224, 3)\n",
      "originalResult_red shape:  (224, 224, 3)\n",
      "originalResult_red shape:  (224, 224, 3)\n",
      "originalResult_red shape:  (224, 224, 3)\n",
      "originalResult_red shape:  (224, 224, 3)\n",
      "originalResult_red shape:  (224, 224, 3)\n",
      "originalResult_red shape:  (224, 224, 3)\n",
      "originalResult_red shape:  (224, 224, 3)\n",
      "originalResult_red shape:  (224, 224, 3)\n",
      "originalResult_red shape:  (224, 224, 3)\n",
      "originalResult_red shape:  (224, 224, 3)\n",
      "originalResult_red shape:  (224, 224, 3)\n",
      "originalResult_red shape:  (224, 224, 3)\n",
      "originalResult_red shape:  (224, 224, 3)\n",
      "originalResult_red shape:  (224, 224, 3)\n",
      "originalResult_red shape:  (224, 224, 3)\n",
      "originalResult_red shape:  (224, 224, 3)\n",
      "originalResult_red shape:  (224, 224, 3)\n",
      "originalResult_red shape:  (224, 224, 3)\n",
      "originalResult_red shape:  (224, 224, 3)\n",
      "originalResult_red shape:  (224, 224, 3)\n",
      "originalResult_red shape:  (224, 224, 3)\n"
     ]
    },
    {
     "name": "stderr",
     "output_type": "stream",
     "text": [
      "  7%|▋         | 1/15 [00:02<00:41,  2.99s/it]"
     ]
    },
    {
     "name": "stdout",
     "output_type": "stream",
     "text": [
      "originalResult_red shape:  (224, 224, 3)\n",
      "originalResult_red shape:  (224, 224, 3)\n",
      "originalResult_red shape:  (224, 224, 3)\n",
      "originalResult_red shape:  (224, 224, 3)\n",
      "originalResult_red shape:  (224, 224, 3)\n",
      "originalResult_red shape:  (224, 224, 3)\n",
      "originalResult_red shape:  (224, 224, 3)\n",
      "originalResult_red shape:  (224, 224, 3)\n",
      "originalResult_red shape:  (224, 224, 3)\n",
      "originalResult_red shape:  (224, 224, 3)\n",
      "originalResult_red shape:  (224, 224, 3)\n",
      "originalResult_red shape:  (224, 224, 3)\n",
      "originalResult_red shape:  (224, 224, 3)\n",
      "originalResult_red shape:  (224, 224, 3)\n",
      "originalResult_red shape:  (224, 224, 3)\n",
      "originalResult_red shape:  (224, 224, 3)\n",
      "originalResult_red shape:  (224, 224, 3)\n",
      "originalResult_red shape:  (224, 224, 3)\n",
      "originalResult_red shape:  (224, 224, 3)\n",
      "originalResult_red shape:  (224, 224, 3)\n",
      "originalResult_red shape:  (224, 224, 3)\n",
      "originalResult_red shape:  (224, 224, 3)\n",
      "originalResult_red shape:  (224, 224, 3)\n",
      "originalResult_red shape:  (224, 224, 3)\n",
      "originalResult_red shape:  (224, 224, 3)\n",
      "originalResult_red shape:  (224, 224, 3)\n",
      "originalResult_red shape:  (224, 224, 3)\n",
      "originalResult_red shape:  (224, 224, 3)\n",
      "originalResult_red shape:  (224, 224, 3)\n",
      "originalResult_red shape:  (224, 224, 3)\n",
      "originalResult_red shape:  (224, 224, 3)\n",
      "originalResult_red shape:  (224, 224, 3)\n",
      "originalResult_red shape:  (224, 224, 3)\n",
      "originalResult_red shape:  (224, 224, 3)\n",
      "originalResult_red shape:  (224, 224, 3)\n",
      "originalResult_red shape:  (224, 224, 3)\n",
      "originalResult_red shape:  (224, 224, 3)\n",
      "originalResult_red shape:  (224, 224, 3)\n",
      "originalResult_red shape:  (224, 224, 3)\n",
      "originalResult_red shape:  (224, 224, 3)\n",
      "originalResult_red shape:  (224, 224, 3)\n",
      "originalResult_red shape:  (224, 224, 3)\n",
      "originalResult_red shape:  (224, 224, 3)\n",
      "originalResult_red shape:  (224, 224, 3)\n",
      "originalResult_red shape:  (224, 224, 3)\n",
      "originalResult_red shape:  (224, 224, 3)\n",
      "originalResult_red shape:  (224, 224, 3)\n",
      "originalResult_red shape:  (224, 224, 3)\n",
      "originalResult_red shape:  (224, 224, 3)\n",
      "originalResult_red shape:  (224, 224, 3)\n",
      "originalResult_red shape:  (224, 224, 3)\n",
      "originalResult_red shape:  (224, 224, 3)\n",
      "originalResult_red shape:  (224, 224, 3)\n",
      "originalResult_red shape:  (224, 224, 3)\n",
      "originalResult_red shape:  (224, 224, 3)\n"
     ]
    },
    {
     "name": "stderr",
     "output_type": "stream",
     "text": [
      " 13%|█▎        | 2/15 [00:05<00:31,  2.41s/it]"
     ]
    },
    {
     "name": "stdout",
     "output_type": "stream",
     "text": [
      "originalResult_red shape:  (224, 224, 3)\n",
      "originalResult_red shape:  (224, 224, 3)\n",
      "originalResult_red shape:  (224, 224, 3)\n",
      "originalResult_red shape:  (224, 224, 3)\n",
      "originalResult_red shape:  (224, 224, 3)\n",
      "originalResult_red shape:  (224, 224, 3)\n",
      "originalResult_red shape:  (224, 224, 3)\n",
      "originalResult_red shape:  (224, 224, 3)\n",
      "originalResult_red shape:  (224, 224, 3)\n",
      "originalResult_red shape:  (224, 224, 3)\n",
      "originalResult_red shape:  (224, 224, 3)\n",
      "originalResult_red shape:  (224, 224, 3)\n",
      "originalResult_red shape:  (224, 224, 3)\n",
      "originalResult_red shape:  (224, 224, 3)\n",
      "originalResult_red shape:  (224, 224, 3)\n",
      "originalResult_red shape:  (224, 224, 3)\n",
      "originalResult_red shape:  (224, 224, 3)\n",
      "originalResult_red shape:  (224, 224, 3)\n",
      "originalResult_red shape:  (224, 224, 3)\n",
      "originalResult_red shape:  (224, 224, 3)\n",
      "originalResult_red shape:  (224, 224, 3)\n",
      "originalResult_red shape:  (224, 224, 3)\n",
      "originalResult_red shape:  (224, 224, 3)\n",
      "originalResult_red shape:  (224, 224, 3)\n",
      "originalResult_red shape:  (224, 224, 3)\n",
      "originalResult_red shape:  (224, 224, 3)\n",
      "originalResult_red shape:  (224, 224, 3)\n",
      "originalResult_red shape:  (224, 224, 3)\n",
      "originalResult_red shape:  (224, 224, 3)\n",
      "originalResult_red shape:  (224, 224, 3)\n",
      "originalResult_red shape:  (224, 224, 3)\n",
      "originalResult_red shape:  (224, 224, 3)\n",
      "originalResult_red shape:  (224, 224, 3)\n",
      "originalResult_red shape:  (224, 224, 3)\n",
      "originalResult_red shape:  (224, 224, 3)\n",
      "originalResult_red shape:  (224, 224, 3)\n",
      "originalResult_red shape:  (224, 224, 3)\n",
      "originalResult_red shape:  (224, 224, 3)\n",
      "originalResult_red shape:  (224, 224, 3)\n",
      "originalResult_red shape:  (224, 224, 3)\n",
      "originalResult_red shape:  (224, 224, 3)\n",
      "originalResult_red shape:  (224, 224, 3)\n",
      "originalResult_red shape:  (224, 224, 3)\n",
      "originalResult_red shape:  (224, 224, 3)\n",
      "originalResult_red shape:  (224, 224, 3)\n",
      "originalResult_red shape:  (224, 224, 3)\n",
      "originalResult_red shape:  (224, 224, 3)\n",
      "originalResult_red shape:  (224, 224, 3)\n",
      "originalResult_red shape:  (224, 224, 3)\n",
      "originalResult_red shape:  (224, 224, 3)\n",
      "originalResult_red shape:  (224, 224, 3)\n",
      "originalResult_red shape:  (224, 224, 3)\n",
      "originalResult_red shape:  (224, 224, 3)\n",
      "originalResult_red shape:  (224, 224, 3)\n",
      "originalResult_red shape:  (224, 224, 3)\n",
      "originalResult_red shape:  (224, 224, 3)\n",
      "originalResult_red shape:  (224, 224, 3)\n",
      "originalResult_red shape:  (224, 224, 3)\n",
      "originalResult_red shape:  (224, 224, 3)\n",
      "originalResult_red shape:  (224, 224, 3)\n",
      "originalResult_red shape:  (224, 224, 3)\n",
      "originalResult_red shape:  (224, 224, 3)\n",
      "originalResult_red shape:  (224, 224, 3)\n",
      "originalResult_red shape:  (224, 224, 3)\n",
      "originalResult_red shape:  (224, 224, 3)\n",
      "originalResult_red shape:  (224, 224, 3)\n",
      "originalResult_red shape:  (224, 224, 3)\n"
     ]
    },
    {
     "name": "stderr",
     "output_type": "stream",
     "text": [
      " 20%|██        | 3/15 [00:06<00:24,  2.07s/it]"
     ]
    },
    {
     "name": "stdout",
     "output_type": "stream",
     "text": [
      "originalResult_red shape:  (224, 224, 3)\n",
      "originalResult_red shape:  (224, 224, 3)\n",
      "originalResult_red shape:  (224, 224, 3)\n",
      "originalResult_red shape:  (224, 224, 3)\n",
      "originalResult_red shape:  (224, 224, 3)\n",
      "originalResult_red shape:  (224, 224, 3)\n",
      "originalResult_red shape:  (224, 224, 3)\n",
      "originalResult_red shape:  (224, 224, 3)\n",
      "originalResult_red shape:  (224, 224, 3)\n",
      "originalResult_red shape:  (224, 224, 3)\n",
      "originalResult_red shape:  (224, 224, 3)\n",
      "originalResult_red shape:  (224, 224, 3)\n",
      "originalResult_red shape:  (224, 224, 3)\n",
      "originalResult_red shape:  (224, 224, 3)\n",
      "originalResult_red shape:  (224, 224, 3)\n",
      "originalResult_red shape:  (224, 224, 3)\n",
      "originalResult_red shape:  (224, 224, 3)\n",
      "originalResult_red shape:  (224, 224, 3)\n",
      "originalResult_red shape:  (224, 224, 3)\n",
      "originalResult_red shape:  (224, 224, 3)\n",
      "originalResult_red shape:  (224, 224, 3)\n",
      "originalResult_red shape:  (224, 224, 3)\n",
      "originalResult_red shape:  (224, 224, 3)\n",
      "originalResult_red shape:  (224, 224, 3)\n",
      "originalResult_red shape:  (224, 224, 3)\n",
      "originalResult_red shape:  (224, 224, 3)\n",
      "originalResult_red shape:  (224, 224, 3)\n",
      "originalResult_red shape:  (224, 224, 3)\n",
      "originalResult_red shape:  (224, 224, 3)\n",
      "originalResult_red shape:  (224, 224, 3)\n",
      "originalResult_red shape:  (224, 224, 3)\n",
      "originalResult_red shape:  (224, 224, 3)\n",
      "originalResult_red shape:  (224, 224, 3)\n",
      "originalResult_red shape:  (224, 224, 3)\n",
      "originalResult_red shape:  (224, 224, 3)\n",
      "originalResult_red shape:  (224, 224, 3)\n",
      "originalResult_red shape:  (224, 224, 3)\n",
      "originalResult_red shape:  (224, 224, 3)\n",
      "originalResult_red shape:  (224, 224, 3)\n",
      "originalResult_red shape:  (224, 224, 3)\n",
      "originalResult_red shape:  (224, 224, 3)\n",
      "originalResult_red shape:  (224, 224, 3)\n",
      "originalResult_red shape:  (224, 224, 3)\n",
      "originalResult_red shape:  (224, 224, 3)\n",
      "originalResult_red shape:  (224, 224, 3)\n",
      "originalResult_red shape:  (224, 224, 3)\n",
      "originalResult_red shape:  (224, 224, 3)\n",
      "originalResult_red shape:  (224, 224, 3)\n",
      "originalResult_red shape:  (224, 224, 3)\n",
      "originalResult_red shape:  (224, 224, 3)\n",
      "originalResult_red shape:  (224, 224, 3)\n",
      "originalResult_red shape:  (224, 224, 3)\n",
      "originalResult_red shape:  (224, 224, 3)\n",
      "originalResult_red shape:  (224, 224, 3)\n",
      "originalResult_red shape:  (224, 224, 3)\n",
      "originalResult_red shape:  (224, 224, 3)\n",
      "originalResult_red shape:  (224, 224, 3)\n",
      "originalResult_red shape:  (224, 224, 3)\n",
      "originalResult_red shape:  (224, 224, 3)\n",
      "originalResult_red shape:  (224, 224, 3)\n",
      "originalResult_red shape:  (224, 224, 3)\n",
      "originalResult_red shape:  (224, 224, 3)\n",
      "originalResult_red shape:  (224, 224, 3)\n",
      "originalResult_red shape:  (224, 224, 3)\n"
     ]
    },
    {
     "name": "stderr",
     "output_type": "stream",
     "text": [
      " 27%|██▋       | 4/15 [00:08<00:21,  1.92s/it]"
     ]
    },
    {
     "name": "stdout",
     "output_type": "stream",
     "text": [
      "originalResult_red shape:  (224, 224, 3)\n",
      "originalResult_red shape:  (224, 224, 3)\n",
      "originalResult_red shape:  (224, 224, 3)\n",
      "originalResult_red shape:  (224, 224, 3)\n",
      "originalResult_red shape:  (224, 224, 3)\n",
      "originalResult_red shape:  (224, 224, 3)\n",
      "originalResult_red shape:  (224, 224, 3)\n",
      "originalResult_red shape:  (224, 224, 3)\n",
      "originalResult_red shape:  (224, 224, 3)\n",
      "originalResult_red shape:  (224, 224, 3)\n",
      "originalResult_red shape:  (224, 224, 3)\n",
      "originalResult_red shape:  (224, 224, 3)\n",
      "originalResult_red shape:  (224, 224, 3)\n",
      "originalResult_red shape:  (224, 224, 3)\n",
      "originalResult_red shape:  (224, 224, 3)\n",
      "originalResult_red shape:  (224, 224, 3)\n",
      "originalResult_red shape:  (224, 224, 3)\n",
      "originalResult_red shape:  (224, 224, 3)\n",
      "originalResult_red shape:  (224, 224, 3)\n",
      "originalResult_red shape:  (224, 224, 3)\n",
      "originalResult_red shape:  (224, 224, 3)\n",
      "originalResult_red shape:  (224, 224, 3)\n",
      "originalResult_red shape:  (224, 224, 3)\n",
      "originalResult_red shape:  (224, 224, 3)\n",
      "originalResult_red shape:  (224, 224, 3)\n",
      "originalResult_red shape:  (224, 224, 3)\n",
      "originalResult_red shape:  (224, 224, 3)\n",
      "originalResult_red shape:  (224, 224, 3)\n",
      "originalResult_red shape:  (224, 224, 3)\n",
      "originalResult_red shape:  (224, 224, 3)\n",
      "originalResult_red shape:  (224, 224, 3)\n",
      "originalResult_red shape:  (224, 224, 3)\n",
      "originalResult_red shape:  (224, 224, 3)\n",
      "originalResult_red shape:  (224, 224, 3)\n",
      "originalResult_red shape:  (224, 224, 3)\n",
      "originalResult_red shape:  (224, 224, 3)\n",
      "originalResult_red shape:  (224, 224, 3)\n",
      "originalResult_red shape:  (224, 224, 3)\n",
      "originalResult_red shape:  (224, 224, 3)\n",
      "originalResult_red shape:  (224, 224, 3)\n",
      "originalResult_red shape:  (224, 224, 3)\n",
      "originalResult_red shape:  (224, 224, 3)\n",
      "originalResult_red shape:  (224, 224, 3)\n",
      "originalResult_red shape:  (224, 224, 3)\n",
      "originalResult_red shape:  (224, 224, 3)\n",
      "originalResult_red shape:  (224, 224, 3)\n",
      "originalResult_red shape:  (224, 224, 3)\n",
      "originalResult_red shape:  (224, 224, 3)\n",
      "originalResult_red shape:  (224, 224, 3)\n",
      "originalResult_red shape:  (224, 224, 3)\n",
      "originalResult_red shape:  (224, 224, 3)\n",
      "originalResult_red shape:  (224, 224, 3)\n",
      "originalResult_red shape:  (224, 224, 3)\n",
      "originalResult_red shape:  (224, 224, 3)\n",
      "originalResult_red shape:  (224, 224, 3)\n",
      "originalResult_red shape:  (224, 224, 3)\n",
      "originalResult_red shape:  (224, 224, 3)\n",
      "originalResult_red shape:  (224, 224, 3)\n",
      "originalResult_red shape:  (224, 224, 3)\n",
      "originalResult_red shape:  (224, 224, 3)\n",
      "originalResult_red shape:  (224, 224, 3)\n",
      "originalResult_red shape:  (224, 224, 3)\n",
      "originalResult_red shape:  (224, 224, 3)\n",
      "originalResult_red shape:  (224, 224, 3)\n",
      "originalResult_red shape:  (224, 224, 3)\n",
      "originalResult_red shape:  (224, 224, 3)\n",
      "originalResult_red shape:  (224, 224, 3)\n",
      "originalResult_red shape:  (224, 224, 3)\n",
      "originalResult_red shape:  (224, 224, 3)\n"
     ]
    },
    {
     "name": "stderr",
     "output_type": "stream",
     "text": [
      " 33%|███▎      | 5/15 [00:10<00:18,  1.88s/it]"
     ]
    },
    {
     "name": "stdout",
     "output_type": "stream",
     "text": [
      "originalResult_red shape:  (224, 224, 3)\n",
      "originalResult_red shape:  (224, 224, 3)\n",
      "originalResult_red shape:  (224, 224, 3)\n",
      "originalResult_red shape:  (224, 224, 3)\n",
      "originalResult_red shape:  (224, 224, 3)\n",
      "originalResult_red shape:  (224, 224, 3)\n",
      "originalResult_red shape:  (224, 224, 3)\n",
      "originalResult_red shape:  (224, 224, 3)\n",
      "originalResult_red shape:  (224, 224, 3)\n",
      "originalResult_red shape:  (224, 224, 3)\n",
      "originalResult_red shape:  (224, 224, 3)\n",
      "originalResult_red shape:  (224, 224, 3)\n",
      "originalResult_red shape:  (224, 224, 3)\n",
      "originalResult_red shape:  (224, 224, 3)\n",
      "originalResult_red shape:  (224, 224, 3)\n",
      "originalResult_red shape:  (224, 224, 3)\n",
      "originalResult_red shape:  (224, 224, 3)\n",
      "originalResult_red shape:  (224, 224, 3)\n",
      "originalResult_red shape:  (224, 224, 3)\n",
      "originalResult_red shape:  (224, 224, 3)\n",
      "originalResult_red shape:  (224, 224, 3)\n",
      "originalResult_red shape:  (224, 224, 3)\n",
      "originalResult_red shape:  (224, 224, 3)\n",
      "originalResult_red shape:  (224, 224, 3)\n",
      "originalResult_red shape:  (224, 224, 3)\n",
      "originalResult_red shape:  (224, 224, 3)\n",
      "originalResult_red shape:  (224, 224, 3)\n",
      "originalResult_red shape:  (224, 224, 3)\n",
      "originalResult_red shape:  (224, 224, 3)\n",
      "originalResult_red shape:  (224, 224, 3)\n",
      "originalResult_red shape:  (224, 224, 3)\n",
      "originalResult_red shape:  (224, 224, 3)\n",
      "originalResult_red shape:  (224, 224, 3)\n",
      "originalResult_red shape:  (224, 224, 3)\n",
      "originalResult_red shape:  (224, 224, 3)\n",
      "originalResult_red shape:  (224, 224, 3)\n",
      "originalResult_red shape:  (224, 224, 3)\n",
      "originalResult_red shape:  (224, 224, 3)\n",
      "originalResult_red shape:  (224, 224, 3)\n",
      "originalResult_red shape:  (224, 224, 3)\n",
      "originalResult_red shape:  (224, 224, 3)\n",
      "originalResult_red shape:  (224, 224, 3)\n",
      "originalResult_red shape:  (224, 224, 3)\n",
      "originalResult_red shape:  (224, 224, 3)\n",
      "originalResult_red shape:  (224, 224, 3)\n",
      "originalResult_red shape:  (224, 224, 3)\n",
      "originalResult_red shape:  (224, 224, 3)\n",
      "originalResult_red shape:  (224, 224, 3)\n",
      "originalResult_red shape:  (224, 224, 3)\n",
      "originalResult_red shape:  (224, 224, 3)\n",
      "originalResult_red shape:  (224, 224, 3)\n",
      "originalResult_red shape:  (224, 224, 3)\n",
      "originalResult_red shape:  (224, 224, 3)\n",
      "originalResult_red shape:  (224, 224, 3)\n",
      "originalResult_red shape:  (224, 224, 3)\n",
      "originalResult_red shape:  (224, 224, 3)\n",
      "originalResult_red shape:  (224, 224, 3)\n",
      "originalResult_red shape:  (224, 224, 3)\n",
      "originalResult_red shape:  (224, 224, 3)\n",
      "originalResult_red shape:  (224, 224, 3)\n",
      "originalResult_red shape:  (224, 224, 3)\n",
      "originalResult_red shape:  (224, 224, 3)\n",
      "originalResult_red shape:  (224, 224, 3)\n",
      "originalResult_red shape:  (224, 224, 3)\n",
      "originalResult_red shape:  (224, 224, 3)\n",
      "originalResult_red shape:  (224, 224, 3)\n"
     ]
    },
    {
     "name": "stderr",
     "output_type": "stream",
     "text": [
      " 40%|████      | 6/15 [00:11<00:16,  1.83s/it]"
     ]
    },
    {
     "name": "stdout",
     "output_type": "stream",
     "text": [
      "originalResult_red shape:  (224, 224, 3)\n",
      "originalResult_red shape:  (224, 224, 3)\n",
      "originalResult_red shape:  (224, 224, 3)\n",
      "originalResult_red shape:  (224, 224, 3)\n",
      "originalResult_red shape:  (224, 224, 3)\n",
      "originalResult_red shape:  (224, 224, 3)\n",
      "originalResult_red shape:  (224, 224, 3)\n",
      "originalResult_red shape:  (224, 224, 3)\n",
      "originalResult_red shape:  (224, 224, 3)\n",
      "originalResult_red shape:  (224, 224, 3)\n",
      "originalResult_red shape:  (224, 224, 3)\n",
      "originalResult_red shape:  (224, 224, 3)\n",
      "originalResult_red shape:  (224, 224, 3)\n",
      "originalResult_red shape:  (224, 224, 3)\n",
      "originalResult_red shape:  (224, 224, 3)\n",
      "originalResult_red shape:  (224, 224, 3)\n",
      "originalResult_red shape:  (224, 224, 3)\n",
      "originalResult_red shape:  (224, 224, 3)\n",
      "originalResult_red shape:  (224, 224, 3)\n",
      "originalResult_red shape:  (224, 224, 3)\n",
      "originalResult_red shape:  (224, 224, 3)\n",
      "originalResult_red shape:  (224, 224, 3)\n",
      "originalResult_red shape:  (224, 224, 3)\n",
      "originalResult_red shape:  (224, 224, 3)\n",
      "originalResult_red shape:  (224, 224, 3)\n",
      "originalResult_red shape:  (224, 224, 3)\n",
      "originalResult_red shape:  (224, 224, 3)\n",
      "originalResult_red shape:  (224, 224, 3)\n",
      "originalResult_red shape:  (224, 224, 3)\n",
      "originalResult_red shape:  (224, 224, 3)\n",
      "originalResult_red shape:  (224, 224, 3)\n",
      "originalResult_red shape:  (224, 224, 3)\n",
      "originalResult_red shape:  (224, 224, 3)\n",
      "originalResult_red shape:  (224, 224, 3)\n",
      "originalResult_red shape:  (224, 224, 3)\n",
      "originalResult_red shape:  (224, 224, 3)\n",
      "originalResult_red shape:  (224, 224, 3)\n",
      "originalResult_red shape:  (224, 224, 3)\n",
      "originalResult_red shape:  (224, 224, 3)\n",
      "originalResult_red shape:  (224, 224, 3)\n",
      "originalResult_red shape:  (224, 224, 3)\n",
      "originalResult_red shape:  (224, 224, 3)\n",
      "originalResult_red shape:  (224, 224, 3)\n",
      "originalResult_red shape:  (224, 224, 3)\n",
      "originalResult_red shape:  (224, 224, 3)\n",
      "originalResult_red shape:  (224, 224, 3)\n",
      "originalResult_red shape:  (224, 224, 3)\n",
      "originalResult_red shape:  (224, 224, 3)\n",
      "originalResult_red shape:  (224, 224, 3)\n",
      "originalResult_red shape:  (224, 224, 3)\n",
      "originalResult_red shape:  (224, 224, 3)\n",
      "originalResult_red shape:  (224, 224, 3)\n",
      "originalResult_red shape:  (224, 224, 3)\n",
      "originalResult_red shape:  (224, 224, 3)\n"
     ]
    },
    {
     "name": "stderr",
     "output_type": "stream",
     "text": [
      " 47%|████▋     | 7/15 [00:13<00:14,  1.82s/it]"
     ]
    },
    {
     "name": "stdout",
     "output_type": "stream",
     "text": [
      "originalResult_red shape:  (224, 224, 3)\n",
      "originalResult_red shape:  (224, 224, 3)\n",
      "originalResult_red shape:  (224, 224, 3)\n",
      "originalResult_red shape:  (224, 224, 3)\n",
      "originalResult_red shape:  (224, 224, 3)\n",
      "originalResult_red shape:  (224, 224, 3)\n",
      "originalResult_red shape:  (224, 224, 3)\n",
      "originalResult_red shape:  (224, 224, 3)\n",
      "originalResult_red shape:  (224, 224, 3)\n",
      "originalResult_red shape:  (224, 224, 3)\n",
      "originalResult_red shape:  (224, 224, 3)\n",
      "originalResult_red shape:  (224, 224, 3)\n",
      "originalResult_red shape:  (224, 224, 3)\n",
      "originalResult_red shape:  (224, 224, 3)\n",
      "originalResult_red shape:  (224, 224, 3)\n",
      "originalResult_red shape:  (224, 224, 3)\n",
      "originalResult_red shape:  (224, 224, 3)\n",
      "originalResult_red shape:  (224, 224, 3)\n",
      "originalResult_red shape:  (224, 224, 3)\n",
      "originalResult_red shape:  (224, 224, 3)\n",
      "originalResult_red shape:  (224, 224, 3)\n",
      "originalResult_red shape:  (224, 224, 3)\n",
      "originalResult_red shape:  (224, 224, 3)\n",
      "originalResult_red shape:  (224, 224, 3)\n",
      "originalResult_red shape:  (224, 224, 3)\n",
      "originalResult_red shape:  (224, 224, 3)\n",
      "originalResult_red shape:  (224, 224, 3)\n",
      "originalResult_red shape:  (224, 224, 3)\n",
      "originalResult_red shape:  (224, 224, 3)\n",
      "originalResult_red shape:  (224, 224, 3)\n",
      "originalResult_red shape:  (224, 224, 3)\n",
      "originalResult_red shape:  (224, 224, 3)\n",
      "originalResult_red shape:  (224, 224, 3)\n",
      "originalResult_red shape:  (224, 224, 3)\n",
      "originalResult_red shape:  (224, 224, 3)\n",
      "originalResult_red shape:  (224, 224, 3)\n",
      "originalResult_red shape:  (224, 224, 3)\n",
      "originalResult_red shape:  (224, 224, 3)\n",
      "originalResult_red shape:  (224, 224, 3)\n",
      "originalResult_red shape:  (224, 224, 3)\n",
      "originalResult_red shape:  (224, 224, 3)\n",
      "originalResult_red shape:  (224, 224, 3)\n",
      "originalResult_red shape:  (224, 224, 3)\n",
      "originalResult_red shape:  (224, 224, 3)\n",
      "originalResult_red shape:  (224, 224, 3)\n",
      "originalResult_red shape:  (224, 224, 3)\n",
      "originalResult_red shape:  (224, 224, 3)\n",
      "originalResult_red shape:  (224, 224, 3)\n",
      "originalResult_red shape:  (224, 224, 3)\n",
      "originalResult_red shape:  (224, 224, 3)\n",
      "originalResult_red shape:  (224, 224, 3)\n",
      "originalResult_red shape:  (224, 224, 3)\n",
      "originalResult_red shape:  (224, 224, 3)\n",
      "originalResult_red shape:  (224, 224, 3)\n",
      "originalResult_red shape:  (224, 224, 3)\n",
      "originalResult_red shape:  (224, 224, 3)\n",
      "originalResult_red shape:  (224, 224, 3)\n",
      "originalResult_red shape:  (224, 224, 3)\n",
      "originalResult_red shape:  (224, 224, 3)\n",
      "originalResult_red shape:  (224, 224, 3)\n",
      "originalResult_red shape:  (224, 224, 3)\n",
      "originalResult_red shape:  (224, 224, 3)\n",
      "originalResult_red shape:  (224, 224, 3)\n",
      "originalResult_red shape:  (224, 224, 3)\n",
      "originalResult_red shape:  (224, 224, 3)\n",
      "originalResult_red shape:  (224, 224, 3)\n",
      "originalResult_red shape:  (224, 224, 3)\n",
      "originalResult_red shape:  (224, 224, 3)\n",
      "originalResult_red shape:  (224, 224, 3)\n",
      "originalResult_red shape:  (224, 224, 3)\n",
      "originalResult_red shape:  (224, 224, 3)\n"
     ]
    },
    {
     "name": "stderr",
     "output_type": "stream",
     "text": [
      " 53%|█████▎    | 8/15 [00:15<00:12,  1.75s/it]"
     ]
    },
    {
     "name": "stdout",
     "output_type": "stream",
     "text": [
      "originalResult_red shape:  (224, 224, 3)\n",
      "originalResult_red shape:  (224, 224, 3)\n",
      "originalResult_red shape:  (224, 224, 3)\n",
      "originalResult_red shape:  (224, 224, 3)\n",
      "originalResult_red shape:  (224, 224, 3)\n",
      "originalResult_red shape:  (224, 224, 3)\n",
      "originalResult_red shape:  (224, 224, 3)\n",
      "originalResult_red shape:  (224, 224, 3)\n",
      "originalResult_red shape:  (224, 224, 3)\n",
      "originalResult_red shape:  (224, 224, 3)\n",
      "originalResult_red shape:  (224, 224, 3)\n",
      "originalResult_red shape:  (224, 224, 3)\n",
      "originalResult_red shape:  (224, 224, 3)\n",
      "originalResult_red shape:  (224, 224, 3)\n",
      "originalResult_red shape:  (224, 224, 3)\n",
      "originalResult_red shape:  (224, 224, 3)\n",
      "originalResult_red shape:  (224, 224, 3)\n",
      "originalResult_red shape:  (224, 224, 3)\n",
      "originalResult_red shape:  (224, 224, 3)\n",
      "originalResult_red shape:  (224, 224, 3)\n",
      "originalResult_red shape:  (224, 224, 3)\n",
      "originalResult_red shape:  (224, 224, 3)\n",
      "originalResult_red shape:  (224, 224, 3)\n",
      "originalResult_red shape:  (224, 224, 3)\n",
      "originalResult_red shape:  (224, 224, 3)\n",
      "originalResult_red shape:  (224, 224, 3)\n",
      "originalResult_red shape:  (224, 224, 3)\n",
      "originalResult_red shape:  (224, 224, 3)\n",
      "originalResult_red shape:  (224, 224, 3)\n",
      "originalResult_red shape:  (224, 224, 3)\n",
      "originalResult_red shape:  (224, 224, 3)\n",
      "originalResult_red shape:  (224, 224, 3)\n",
      "originalResult_red shape:  (224, 224, 3)\n",
      "originalResult_red shape:  (224, 224, 3)\n",
      "originalResult_red shape:  (224, 224, 3)\n",
      "originalResult_red shape:  (224, 224, 3)\n",
      "originalResult_red shape:  (224, 224, 3)\n",
      "originalResult_red shape:  (224, 224, 3)\n",
      "originalResult_red shape:  (224, 224, 3)\n",
      "originalResult_red shape:  (224, 224, 3)\n",
      "originalResult_red shape:  (224, 224, 3)\n",
      "originalResult_red shape:  (224, 224, 3)\n",
      "originalResult_red shape:  (224, 224, 3)\n",
      "originalResult_red shape:  (224, 224, 3)\n",
      "originalResult_red shape:  (224, 224, 3)\n",
      "originalResult_red shape:  (224, 224, 3)\n",
      "originalResult_red shape:  (224, 224, 3)\n",
      "originalResult_red shape:  (224, 224, 3)\n",
      "originalResult_red shape:  (224, 224, 3)\n",
      "originalResult_red shape:  (224, 224, 3)\n",
      "originalResult_red shape:  (224, 224, 3)\n",
      "originalResult_red shape:  (224, 224, 3)\n",
      "originalResult_red shape:  (224, 224, 3)\n",
      "originalResult_red shape:  (224, 224, 3)\n",
      "originalResult_red shape:  (224, 224, 3)\n",
      "originalResult_red shape:  (224, 224, 3)\n",
      "originalResult_red shape:  (224, 224, 3)\n",
      "originalResult_red shape:  (224, 224, 3)\n",
      "originalResult_red shape:  (224, 224, 3)\n",
      "originalResult_red shape:  (224, 224, 3)\n",
      "originalResult_red shape:  (224, 224, 3)\n",
      "originalResult_red shape:  (224, 224, 3)\n",
      "originalResult_red shape:  (224, 224, 3)\n",
      "originalResult_red shape:  (224, 224, 3)\n",
      "originalResult_red shape:  (224, 224, 3)\n"
     ]
    },
    {
     "name": "stderr",
     "output_type": "stream",
     "text": [
      " 60%|██████    | 9/15 [00:16<00:10,  1.70s/it]"
     ]
    },
    {
     "name": "stdout",
     "output_type": "stream",
     "text": [
      "originalResult_red shape:  (224, 224, 3)\n",
      "originalResult_red shape:  (224, 224, 3)\n",
      "originalResult_red shape:  (224, 224, 3)\n",
      "originalResult_red shape:  (224, 224, 3)\n",
      "originalResult_red shape:  (224, 224, 3)\n",
      "originalResult_red shape:  (224, 224, 3)\n",
      "originalResult_red shape:  (224, 224, 3)\n",
      "originalResult_red shape:  (224, 224, 3)\n",
      "originalResult_red shape:  (224, 224, 3)\n",
      "originalResult_red shape:  (224, 224, 3)\n",
      "originalResult_red shape:  (224, 224, 3)\n",
      "originalResult_red shape:  (224, 224, 3)\n",
      "originalResult_red shape:  (224, 224, 3)\n",
      "originalResult_red shape:  (224, 224, 3)\n",
      "originalResult_red shape:  (224, 224, 3)\n",
      "originalResult_red shape:  (224, 224, 3)\n",
      "originalResult_red shape:  (224, 224, 3)\n",
      "originalResult_red shape:  (224, 224, 3)\n",
      "originalResult_red shape:  (224, 224, 3)\n",
      "originalResult_red shape:  (224, 224, 3)\n",
      "originalResult_red shape:  (224, 224, 3)\n",
      "originalResult_red shape:  (224, 224, 3)\n",
      "originalResult_red shape:  (224, 224, 3)\n",
      "originalResult_red shape:  (224, 224, 3)\n",
      "originalResult_red shape:  (224, 224, 3)\n",
      "originalResult_red shape:  (224, 224, 3)\n",
      "originalResult_red shape:  (224, 224, 3)\n",
      "originalResult_red shape:  (224, 224, 3)\n",
      "originalResult_red shape:  (224, 224, 3)\n",
      "originalResult_red shape:  (224, 224, 3)\n",
      "originalResult_red shape:  (224, 224, 3)\n",
      "originalResult_red shape:  (224, 224, 3)\n",
      "originalResult_red shape:  (224, 224, 3)\n",
      "originalResult_red shape:  (224, 224, 3)\n",
      "originalResult_red shape:  (224, 224, 3)\n",
      "originalResult_red shape:  (224, 224, 3)\n",
      "originalResult_red shape:  (224, 224, 3)\n",
      "originalResult_red shape:  (224, 224, 3)\n",
      "originalResult_red shape:  (224, 224, 3)\n",
      "originalResult_red shape:  (224, 224, 3)\n",
      "originalResult_red shape:  (224, 224, 3)\n",
      "originalResult_red shape:  (224, 224, 3)\n",
      "originalResult_red shape:  (224, 224, 3)\n",
      "originalResult_red shape:  (224, 224, 3)\n",
      "originalResult_red shape:  (224, 224, 3)\n",
      "originalResult_red shape:  (224, 224, 3)\n",
      "originalResult_red shape:  (224, 224, 3)\n",
      "originalResult_red shape:  (224, 224, 3)\n",
      "originalResult_red shape:  (224, 224, 3)\n",
      "originalResult_red shape:  (224, 224, 3)\n",
      "originalResult_red shape:  (224, 224, 3)\n",
      "originalResult_red shape:  (224, 224, 3)\n",
      "originalResult_red shape:  (224, 224, 3)\n",
      "originalResult_red shape:  (224, 224, 3)\n",
      "originalResult_red shape:  (224, 224, 3)\n",
      "originalResult_red shape:  (224, 224, 3)\n",
      "originalResult_red shape:  (224, 224, 3)\n",
      "originalResult_red shape:  (224, 224, 3)\n",
      "originalResult_red shape:  (224, 224, 3)\n",
      "originalResult_red shape:  (224, 224, 3)\n"
     ]
    },
    {
     "name": "stderr",
     "output_type": "stream",
     "text": [
      " 67%|██████▋   | 10/15 [00:18<00:08,  1.68s/it]"
     ]
    },
    {
     "name": "stdout",
     "output_type": "stream",
     "text": [
      "originalResult_red shape:  (224, 224, 3)\n",
      "originalResult_red shape:  (224, 224, 3)\n",
      "originalResult_red shape:  (224, 224, 3)\n",
      "originalResult_red shape:  (224, 224, 3)\n",
      "originalResult_red shape:  (224, 224, 3)\n",
      "originalResult_red shape:  (224, 224, 3)\n",
      "originalResult_red shape:  (224, 224, 3)\n",
      "originalResult_red shape:  (224, 224, 3)\n",
      "originalResult_red shape:  (224, 224, 3)\n",
      "originalResult_red shape:  (224, 224, 3)\n",
      "originalResult_red shape:  (224, 224, 3)\n",
      "originalResult_red shape:  (224, 224, 3)\n",
      "originalResult_red shape:  (224, 224, 3)\n",
      "originalResult_red shape:  (224, 224, 3)\n",
      "originalResult_red shape:  (224, 224, 3)\n",
      "originalResult_red shape:  (224, 224, 3)\n",
      "originalResult_red shape:  (224, 224, 3)\n",
      "originalResult_red shape:  (224, 224, 3)\n",
      "originalResult_red shape:  (224, 224, 3)\n",
      "originalResult_red shape:  (224, 224, 3)\n",
      "originalResult_red shape:  (224, 224, 3)\n",
      "originalResult_red shape:  (224, 224, 3)\n",
      "originalResult_red shape:  (224, 224, 3)\n",
      "originalResult_red shape:  (224, 224, 3)\n",
      "originalResult_red shape:  (224, 224, 3)\n",
      "originalResult_red shape:  (224, 224, 3)\n",
      "originalResult_red shape:  (224, 224, 3)\n",
      "originalResult_red shape:  (224, 224, 3)\n",
      "originalResult_red shape:  (224, 224, 3)\n",
      "originalResult_red shape:  (224, 224, 3)\n",
      "originalResult_red shape:  (224, 224, 3)\n",
      "originalResult_red shape:  (224, 224, 3)\n",
      "originalResult_red shape:  (224, 224, 3)\n",
      "originalResult_red shape:  (224, 224, 3)\n",
      "originalResult_red shape:  (224, 224, 3)\n",
      "originalResult_red shape:  (224, 224, 3)\n",
      "originalResult_red shape:  (224, 224, 3)\n",
      "originalResult_red shape:  (224, 224, 3)\n",
      "originalResult_red shape:  (224, 224, 3)\n",
      "originalResult_red shape:  (224, 224, 3)\n",
      "originalResult_red shape:  (224, 224, 3)\n",
      "originalResult_red shape:  (224, 224, 3)\n",
      "originalResult_red shape:  (224, 224, 3)\n",
      "originalResult_red shape:  (224, 224, 3)\n",
      "originalResult_red shape:  (224, 224, 3)\n",
      "originalResult_red shape:  (224, 224, 3)\n",
      "originalResult_red shape:  (224, 224, 3)\n",
      "originalResult_red shape:  (224, 224, 3)\n",
      "originalResult_red shape:  (224, 224, 3)\n",
      "originalResult_red shape:  (224, 224, 3)\n",
      "originalResult_red shape:  (224, 224, 3)\n",
      "originalResult_red shape:  (224, 224, 3)\n",
      "originalResult_red shape:  (224, 224, 3)\n",
      "originalResult_red shape:  (224, 224, 3)\n",
      "originalResult_red shape:  (224, 224, 3)\n",
      "originalResult_red shape:  (224, 224, 3)\n",
      "originalResult_red shape:  (224, 224, 3)\n",
      "originalResult_red shape:  (224, 224, 3)\n",
      "originalResult_red shape:  (224, 224, 3)\n",
      "originalResult_red shape:  (224, 224, 3)\n",
      "originalResult_red shape:  (224, 224, 3)\n",
      "originalResult_red shape:  (224, 224, 3)\n"
     ]
    },
    {
     "name": "stderr",
     "output_type": "stream",
     "text": [
      " 73%|███████▎  | 11/15 [00:20<00:06,  1.68s/it]"
     ]
    },
    {
     "name": "stdout",
     "output_type": "stream",
     "text": [
      "originalResult_red shape:  (224, 224, 3)\n",
      "originalResult_red shape:  (224, 224, 3)\n",
      "originalResult_red shape:  (224, 224, 3)\n",
      "originalResult_red shape:  (224, 224, 3)\n",
      "originalResult_red shape:  (224, 224, 3)\n",
      "originalResult_red shape:  (224, 224, 3)\n",
      "originalResult_red shape:  (224, 224, 3)\n",
      "originalResult_red shape:  (224, 224, 3)\n",
      "originalResult_red shape:  (224, 224, 3)\n",
      "originalResult_red shape:  (224, 224, 3)\n",
      "originalResult_red shape:  (224, 224, 3)\n",
      "originalResult_red shape:  (224, 224, 3)\n",
      "originalResult_red shape:  (224, 224, 3)\n",
      "originalResult_red shape:  (224, 224, 3)\n",
      "originalResult_red shape:  (224, 224, 3)\n",
      "originalResult_red shape:  (224, 224, 3)\n",
      "originalResult_red shape:  (224, 224, 3)\n",
      "originalResult_red shape:  (224, 224, 3)\n",
      "originalResult_red shape:  (224, 224, 3)\n",
      "originalResult_red shape:  (224, 224, 3)\n",
      "originalResult_red shape:  (224, 224, 3)\n",
      "originalResult_red shape:  (224, 224, 3)\n",
      "originalResult_red shape:  (224, 224, 3)\n",
      "originalResult_red shape:  (224, 224, 3)\n",
      "originalResult_red shape:  (224, 224, 3)\n",
      "originalResult_red shape:  (224, 224, 3)\n",
      "originalResult_red shape:  (224, 224, 3)\n",
      "originalResult_red shape:  (224, 224, 3)\n",
      "originalResult_red shape:  (224, 224, 3)\n",
      "originalResult_red shape:  (224, 224, 3)\n",
      "originalResult_red shape:  (224, 224, 3)\n",
      "originalResult_red shape:  (224, 224, 3)\n",
      "originalResult_red shape:  (224, 224, 3)\n",
      "originalResult_red shape:  (224, 224, 3)\n",
      "originalResult_red shape:  (224, 224, 3)\n",
      "originalResult_red shape:  (224, 224, 3)\n",
      "originalResult_red shape:  (224, 224, 3)\n",
      "originalResult_red shape:  (224, 224, 3)\n",
      "originalResult_red shape:  (224, 224, 3)\n",
      "originalResult_red shape:  (224, 224, 3)\n",
      "originalResult_red shape:  (224, 224, 3)\n",
      "originalResult_red shape:  (224, 224, 3)\n",
      "originalResult_red shape:  (224, 224, 3)\n",
      "originalResult_red shape:  (224, 224, 3)\n",
      "originalResult_red shape:  (224, 224, 3)\n",
      "originalResult_red shape:  (224, 224, 3)\n",
      "originalResult_red shape:  (224, 224, 3)\n",
      "originalResult_red shape:  (224, 224, 3)\n",
      "originalResult_red shape:  (224, 224, 3)\n",
      "originalResult_red shape:  (224, 224, 3)\n",
      "originalResult_red shape:  (224, 224, 3)\n",
      "originalResult_red shape:  (224, 224, 3)\n",
      "originalResult_red shape:  (224, 224, 3)\n",
      "originalResult_red shape:  (224, 224, 3)\n",
      "originalResult_red shape:  (224, 224, 3)\n",
      "originalResult_red shape:  (224, 224, 3)\n",
      "originalResult_red shape:  (224, 224, 3)\n",
      "originalResult_red shape:  (224, 224, 3)\n",
      "originalResult_red shape:  (224, 224, 3)\n",
      "originalResult_red shape:  (224, 224, 3)\n",
      "originalResult_red shape:  (224, 224, 3)\n",
      "originalResult_red shape:  (224, 224, 3)\n",
      "originalResult_red shape:  (224, 224, 3)\n",
      "originalResult_red shape:  (224, 224, 3)\n",
      "originalResult_red shape:  (224, 224, 3)\n",
      "originalResult_red shape:  (224, 224, 3)\n",
      "originalResult_red shape:  (224, 224, 3)\n",
      "originalResult_red shape:  (224, 224, 3)\n"
     ]
    },
    {
     "name": "stderr",
     "output_type": "stream",
     "text": [
      " 80%|████████  | 12/15 [00:21<00:04,  1.66s/it]"
     ]
    },
    {
     "name": "stdout",
     "output_type": "stream",
     "text": [
      "originalResult_red shape:  (224, 224, 3)\n",
      "originalResult_red shape:  (224, 224, 3)\n",
      "originalResult_red shape:  (224, 224, 3)\n",
      "originalResult_red shape:  (224, 224, 3)\n",
      "originalResult_red shape:  (224, 224, 3)\n",
      "originalResult_red shape:  (224, 224, 3)\n",
      "originalResult_red shape:  (224, 224, 3)\n",
      "originalResult_red shape:  (224, 224, 3)\n",
      "originalResult_red shape:  (224, 224, 3)\n",
      "originalResult_red shape:  (224, 224, 3)\n",
      "originalResult_red shape:  (224, 224, 3)\n",
      "originalResult_red shape:  (224, 224, 3)\n",
      "originalResult_red shape:  (224, 224, 3)\n",
      "originalResult_red shape:  (224, 224, 3)\n",
      "originalResult_red shape:  (224, 224, 3)\n",
      "originalResult_red shape:  (224, 224, 3)\n",
      "originalResult_red shape:  (224, 224, 3)\n",
      "originalResult_red shape:  (224, 224, 3)\n",
      "originalResult_red shape:  (224, 224, 3)\n",
      "originalResult_red shape:  (224, 224, 3)\n",
      "originalResult_red shape:  (224, 224, 3)\n",
      "originalResult_red shape:  (224, 224, 3)\n",
      "originalResult_red shape:  (224, 224, 3)\n",
      "originalResult_red shape:  (224, 224, 3)\n",
      "originalResult_red shape:  (224, 224, 3)\n",
      "originalResult_red shape:  (224, 224, 3)\n",
      "originalResult_red shape:  (224, 224, 3)\n",
      "originalResult_red shape:  (224, 224, 3)\n",
      "originalResult_red shape:  (224, 224, 3)\n",
      "originalResult_red shape:  (224, 224, 3)\n",
      "originalResult_red shape:  (224, 224, 3)\n",
      "originalResult_red shape:  (224, 224, 3)\n",
      "originalResult_red shape:  (224, 224, 3)\n",
      "originalResult_red shape:  (224, 224, 3)\n",
      "originalResult_red shape:  (224, 224, 3)\n",
      "originalResult_red shape:  (224, 224, 3)\n",
      "originalResult_red shape:  (224, 224, 3)\n",
      "originalResult_red shape:  (224, 224, 3)\n",
      "originalResult_red shape:  (224, 224, 3)\n",
      "originalResult_red shape:  (224, 224, 3)\n",
      "originalResult_red shape:  (224, 224, 3)\n",
      "originalResult_red shape:  (224, 224, 3)\n",
      "originalResult_red shape:  (224, 224, 3)\n",
      "originalResult_red shape:  (224, 224, 3)\n",
      "originalResult_red shape:  (224, 224, 3)\n",
      "originalResult_red shape:  (224, 224, 3)\n",
      "originalResult_red shape:  (224, 224, 3)\n",
      "originalResult_red shape:  (224, 224, 3)\n",
      "originalResult_red shape:  (224, 224, 3)\n",
      "originalResult_red shape:  (224, 224, 3)\n",
      "originalResult_red shape:  (224, 224, 3)\n",
      "originalResult_red shape:  (224, 224, 3)\n",
      "originalResult_red shape:  (224, 224, 3)\n",
      "originalResult_red shape:  (224, 224, 3)\n",
      "originalResult_red shape:  (224, 224, 3)\n",
      "originalResult_red shape:  (224, 224, 3)\n",
      "originalResult_red shape:  (224, 224, 3)\n",
      "originalResult_red shape:  (224, 224, 3)\n",
      "originalResult_red shape:  (224, 224, 3)\n",
      "originalResult_red shape:  (224, 224, 3)\n",
      "originalResult_red shape:  (224, 224, 3)\n",
      "originalResult_red shape:  (224, 224, 3)\n",
      "originalResult_red shape:  (224, 224, 3)\n",
      "originalResult_red shape:  (224, 224, 3)\n",
      "originalResult_red shape:  (224, 224, 3)\n",
      "originalResult_red shape:  (224, 224, 3)\n"
     ]
    },
    {
     "name": "stderr",
     "output_type": "stream",
     "text": [
      " 87%|████████▋ | 13/15 [00:23<00:03,  1.63s/it]"
     ]
    },
    {
     "name": "stdout",
     "output_type": "stream",
     "text": [
      "originalResult_red shape:  (224, 224, 3)\n",
      "originalResult_red shape:  (224, 224, 3)\n",
      "originalResult_red shape:  (224, 224, 3)\n",
      "originalResult_red shape:  (224, 224, 3)\n",
      "originalResult_red shape:  (224, 224, 3)\n",
      "originalResult_red shape:  (224, 224, 3)\n",
      "originalResult_red shape:  (224, 224, 3)\n",
      "originalResult_red shape:  (224, 224, 3)\n",
      "originalResult_red shape:  (224, 224, 3)\n",
      "originalResult_red shape:  (224, 224, 3)\n",
      "originalResult_red shape:  (224, 224, 3)\n",
      "originalResult_red shape:  (224, 224, 3)\n",
      "originalResult_red shape:  (224, 224, 3)\n",
      "originalResult_red shape:  (224, 224, 3)\n",
      "originalResult_red shape:  (224, 224, 3)\n",
      "originalResult_red shape:  (224, 224, 3)\n",
      "originalResult_red shape:  (224, 224, 3)\n",
      "originalResult_red shape:  (224, 224, 3)\n",
      "originalResult_red shape:  (224, 224, 3)\n",
      "originalResult_red shape:  (224, 224, 3)\n",
      "originalResult_red shape:  (224, 224, 3)\n",
      "originalResult_red shape:  (224, 224, 3)\n",
      "originalResult_red shape:  (224, 224, 3)\n",
      "originalResult_red shape:  (224, 224, 3)\n",
      "originalResult_red shape:  (224, 224, 3)\n",
      "originalResult_red shape:  (224, 224, 3)\n",
      "originalResult_red shape:  (224, 224, 3)\n",
      "originalResult_red shape:  (224, 224, 3)\n",
      "originalResult_red shape:  (224, 224, 3)\n",
      "originalResult_red shape:  (224, 224, 3)\n",
      "originalResult_red shape:  (224, 224, 3)\n",
      "originalResult_red shape:  (224, 224, 3)\n",
      "originalResult_red shape:  (224, 224, 3)\n",
      "originalResult_red shape:  (224, 224, 3)\n",
      "originalResult_red shape:  (224, 224, 3)\n",
      "originalResult_red shape:  (224, 224, 3)\n",
      "originalResult_red shape:  (224, 224, 3)\n",
      "originalResult_red shape:  (224, 224, 3)\n",
      "originalResult_red shape:  (224, 224, 3)\n",
      "originalResult_red shape:  (224, 224, 3)\n",
      "originalResult_red shape:  (224, 224, 3)\n",
      "originalResult_red shape:  (224, 224, 3)\n",
      "originalResult_red shape:  (224, 224, 3)\n",
      "originalResult_red shape:  (224, 224, 3)\n",
      "originalResult_red shape:  (224, 224, 3)\n",
      "originalResult_red shape:  (224, 224, 3)\n",
      "originalResult_red shape:  (224, 224, 3)\n",
      "originalResult_red shape:  (224, 224, 3)\n",
      "originalResult_red shape:  (224, 224, 3)\n",
      "originalResult_red shape:  (224, 224, 3)\n",
      "originalResult_red shape:  (224, 224, 3)\n",
      "originalResult_red shape:  (224, 224, 3)\n",
      "originalResult_red shape:  (224, 224, 3)\n",
      "originalResult_red shape:  (224, 224, 3)\n",
      "originalResult_red shape:  (224, 224, 3)\n",
      "originalResult_red shape:  (224, 224, 3)\n",
      "originalResult_red shape:  (224, 224, 3)\n",
      "originalResult_red shape:  (224, 224, 3)\n",
      "originalResult_red shape:  (224, 224, 3)\n",
      "originalResult_red shape:  (224, 224, 3)\n",
      "originalResult_red shape:  (224, 224, 3)\n",
      "originalResult_red shape:  (224, 224, 3)\n"
     ]
    },
    {
     "name": "stderr",
     "output_type": "stream",
     "text": [
      " 93%|█████████▎| 14/15 [00:24<00:01,  1.61s/it]"
     ]
    },
    {
     "name": "stdout",
     "output_type": "stream",
     "text": [
      "originalResult_red shape:  (224, 224, 3)\n",
      "originalResult_red shape:  (224, 224, 3)\n",
      "originalResult_red shape:  (224, 224, 3)\n",
      "originalResult_red shape:  (224, 224, 3)\n",
      "originalResult_red shape:  (224, 224, 3)\n",
      "originalResult_red shape:  (224, 224, 3)\n",
      "originalResult_red shape:  (224, 224, 3)\n",
      "originalResult_red shape:  (224, 224, 3)\n",
      "originalResult_red shape:  (224, 224, 3)\n",
      "originalResult_red shape:  (224, 224, 3)\n",
      "originalResult_red shape:  (224, 224, 3)\n",
      "originalResult_red shape:  (224, 224, 3)\n",
      "originalResult_red shape:  (224, 224, 3)\n",
      "originalResult_red shape:  (224, 224, 3)\n",
      "originalResult_red shape:  (224, 224, 3)\n",
      "originalResult_red shape:  (224, 224, 3)\n",
      "originalResult_red shape:  (224, 224, 3)\n",
      "originalResult_red shape:  (224, 224, 3)\n",
      "originalResult_red shape:  (224, 224, 3)\n",
      "originalResult_red shape:  (224, 224, 3)\n",
      "originalResult_red shape:  (224, 224, 3)\n",
      "originalResult_red shape:  (224, 224, 3)\n",
      "originalResult_red shape:  (224, 224, 3)\n",
      "originalResult_red shape:  (224, 224, 3)\n",
      "originalResult_red shape:  (224, 224, 3)\n",
      "originalResult_red shape:  (224, 224, 3)\n",
      "originalResult_red shape:  (224, 224, 3)\n",
      "originalResult_red shape:  (224, 224, 3)\n",
      "originalResult_red shape:  (224, 224, 3)\n",
      "originalResult_red shape:  (224, 224, 3)\n",
      "originalResult_red shape:  (224, 224, 3)\n",
      "originalResult_red shape:  (224, 224, 3)\n",
      "originalResult_red shape:  (224, 224, 3)\n",
      "originalResult_red shape:  (224, 224, 3)\n",
      "originalResult_red shape:  (224, 224, 3)\n",
      "originalResult_red shape:  (224, 224, 3)\n",
      "originalResult_red shape:  (224, 224, 3)\n",
      "originalResult_red shape:  (224, 224, 3)\n",
      "originalResult_red shape:  (224, 224, 3)\n",
      "originalResult_red shape:  (224, 224, 3)\n",
      "originalResult_red shape:  (224, 224, 3)\n",
      "originalResult_red shape:  (224, 224, 3)\n",
      "originalResult_red shape:  (224, 224, 3)\n",
      "originalResult_red shape:  (224, 224, 3)\n",
      "originalResult_red shape:  (224, 224, 3)\n",
      "originalResult_red shape:  (224, 224, 3)\n",
      "originalResult_red shape:  (224, 224, 3)\n",
      "originalResult_red shape:  (224, 224, 3)\n",
      "originalResult_red shape:  (224, 224, 3)\n",
      "originalResult_red shape:  (224, 224, 3)\n",
      "originalResult_red shape:  (224, 224, 3)\n",
      "originalResult_red shape:  (224, 224, 3)\n",
      "originalResult_red shape:  (224, 224, 3)\n",
      "originalResult_red shape:  (224, 224, 3)\n",
      "originalResult_red shape:  (224, 224, 3)\n",
      "originalResult_red shape:  (224, 224, 3)\n",
      "originalResult_red shape:  (224, 224, 3)\n",
      "originalResult_red shape:  (224, 224, 3)\n",
      "originalResult_red shape:  (224, 224, 3)\n",
      "originalResult_red shape:  (224, 224, 3)\n",
      "originalResult_red shape:  (224, 224, 3)\n",
      "originalResult_red shape:  (224, 224, 3)\n",
      "originalResult_red shape:  (224, 224, 3)\n",
      "originalResult_red shape:  (224, 224, 3)\n",
      "originalResult_red shape:  (224, 224, 3)\n"
     ]
    },
    {
     "name": "stderr",
     "output_type": "stream",
     "text": [
      "100%|██████████| 15/15 [00:26<00:00,  1.79s/it]"
     ]
    },
    {
     "name": "stdout",
     "output_type": "stream",
     "text": [
      "originalResult_red shape:  (224, 224, 3)\n",
      "originalResult_red shape:  (224, 224, 3)\n",
      "originalResult_red shape:  (224, 224, 3)\n",
      "Sampling images done\n",
      "Testing done!\n",
      "------------------------------\n",
      "All done!\n"
     ]
    },
    {
     "name": "stderr",
     "output_type": "stream",
     "text": [
      "\n"
     ]
    }
   ],
   "source": [
    "from trainer import train\n",
    "\n",
    "limits = [65000, 1000]\n",
    "train(limits)"
   ]
  }
 ],
 "metadata": {
  "kernelspec": {
   "display_name": "Python 3",
   "language": "python",
   "name": "python3"
  },
  "language_info": {
   "codemirror_mode": {
    "name": "ipython",
    "version": 3
   },
   "file_extension": ".py",
   "mimetype": "text/x-python",
   "name": "python",
   "nbconvert_exporter": "python",
   "pygments_lexer": "ipython3",
   "version": "3.7.12"
  },
  "papermill": {
   "default_parameters": {},
   "duration": 30803.466054,
   "end_time": "2022-12-17T16:48:13.276857",
   "environment_variables": {},
   "exception": null,
   "input_path": "__notebook__.ipynb",
   "output_path": "__notebook__.ipynb",
   "parameters": {},
   "start_time": "2022-12-17T08:14:49.810803",
   "version": "2.3.4"
  },
  "widgets": {
   "application/vnd.jupyter.widget-state+json": {
    "state": {
     "1ead7b66879b449293b953fe2c8107bd": {
      "model_module": "@jupyter-widgets/controls",
      "model_module_version": "1.5.0",
      "model_name": "HBoxModel",
      "state": {
       "_dom_classes": [],
       "_model_module": "@jupyter-widgets/controls",
       "_model_module_version": "1.5.0",
       "_model_name": "HBoxModel",
       "_view_count": null,
       "_view_module": "@jupyter-widgets/controls",
       "_view_module_version": "1.5.0",
       "_view_name": "HBoxView",
       "box_style": "",
       "children": [
        "IPY_MODEL_52fb682667b249c5bc090dbdc328ef23",
        "IPY_MODEL_587c0ecbc68542f584a1cf18b2c0263f",
        "IPY_MODEL_dbed823d5e3a4c71aa6d8c5a4316b311"
       ],
       "layout": "IPY_MODEL_49c96546606f4b59a52ea9c49a28850e"
      }
     },
     "3efdef3c3ba74e8d81ecbd5bb3ad2b60": {
      "model_module": "@jupyter-widgets/controls",
      "model_module_version": "1.5.0",
      "model_name": "ProgressStyleModel",
      "state": {
       "_model_module": "@jupyter-widgets/controls",
       "_model_module_version": "1.5.0",
       "_model_name": "ProgressStyleModel",
       "_view_count": null,
       "_view_module": "@jupyter-widgets/base",
       "_view_module_version": "1.2.0",
       "_view_name": "StyleView",
       "bar_color": null,
       "description_width": ""
      }
     },
     "49c96546606f4b59a52ea9c49a28850e": {
      "model_module": "@jupyter-widgets/base",
      "model_module_version": "1.2.0",
      "model_name": "LayoutModel",
      "state": {
       "_model_module": "@jupyter-widgets/base",
       "_model_module_version": "1.2.0",
       "_model_name": "LayoutModel",
       "_view_count": null,
       "_view_module": "@jupyter-widgets/base",
       "_view_module_version": "1.2.0",
       "_view_name": "LayoutView",
       "align_content": null,
       "align_items": null,
       "align_self": null,
       "border": null,
       "bottom": null,
       "display": null,
       "flex": null,
       "flex_flow": null,
       "grid_area": null,
       "grid_auto_columns": null,
       "grid_auto_flow": null,
       "grid_auto_rows": null,
       "grid_column": null,
       "grid_gap": null,
       "grid_row": null,
       "grid_template_areas": null,
       "grid_template_columns": null,
       "grid_template_rows": null,
       "height": null,
       "justify_content": null,
       "justify_items": null,
       "left": null,
       "margin": null,
       "max_height": null,
       "max_width": null,
       "min_height": null,
       "min_width": null,
       "object_fit": null,
       "object_position": null,
       "order": null,
       "overflow": null,
       "overflow_x": null,
       "overflow_y": null,
       "padding": null,
       "right": null,
       "top": null,
       "visibility": null,
       "width": null
      }
     },
     "52fb682667b249c5bc090dbdc328ef23": {
      "model_module": "@jupyter-widgets/controls",
      "model_module_version": "1.5.0",
      "model_name": "HTMLModel",
      "state": {
       "_dom_classes": [],
       "_model_module": "@jupyter-widgets/controls",
       "_model_module_version": "1.5.0",
       "_model_name": "HTMLModel",
       "_view_count": null,
       "_view_module": "@jupyter-widgets/controls",
       "_view_module_version": "1.5.0",
       "_view_name": "HTMLView",
       "description": "",
       "description_tooltip": null,
       "layout": "IPY_MODEL_54b3229cdcb04897851951a2b8923cdb",
       "placeholder": "​",
       "style": "IPY_MODEL_817b7cb9a2c54dfebb62bf3eec46841a",
       "value": "100%"
      }
     },
     "54b3229cdcb04897851951a2b8923cdb": {
      "model_module": "@jupyter-widgets/base",
      "model_module_version": "1.2.0",
      "model_name": "LayoutModel",
      "state": {
       "_model_module": "@jupyter-widgets/base",
       "_model_module_version": "1.2.0",
       "_model_name": "LayoutModel",
       "_view_count": null,
       "_view_module": "@jupyter-widgets/base",
       "_view_module_version": "1.2.0",
       "_view_name": "LayoutView",
       "align_content": null,
       "align_items": null,
       "align_self": null,
       "border": null,
       "bottom": null,
       "display": null,
       "flex": null,
       "flex_flow": null,
       "grid_area": null,
       "grid_auto_columns": null,
       "grid_auto_flow": null,
       "grid_auto_rows": null,
       "grid_column": null,
       "grid_gap": null,
       "grid_row": null,
       "grid_template_areas": null,
       "grid_template_columns": null,
       "grid_template_rows": null,
       "height": null,
       "justify_content": null,
       "justify_items": null,
       "left": null,
       "margin": null,
       "max_height": null,
       "max_width": null,
       "min_height": null,
       "min_width": null,
       "object_fit": null,
       "object_position": null,
       "order": null,
       "overflow": null,
       "overflow_x": null,
       "overflow_y": null,
       "padding": null,
       "right": null,
       "top": null,
       "visibility": null,
       "width": null
      }
     },
     "587c0ecbc68542f584a1cf18b2c0263f": {
      "model_module": "@jupyter-widgets/controls",
      "model_module_version": "1.5.0",
      "model_name": "FloatProgressModel",
      "state": {
       "_dom_classes": [],
       "_model_module": "@jupyter-widgets/controls",
       "_model_module_version": "1.5.0",
       "_model_name": "FloatProgressModel",
       "_view_count": null,
       "_view_module": "@jupyter-widgets/controls",
       "_view_module_version": "1.5.0",
       "_view_name": "ProgressView",
       "bar_style": "success",
       "description": "",
       "description_tooltip": null,
       "layout": "IPY_MODEL_af065b25c33d4e7ab9ccf1618ff7ccd5",
       "max": 553433881.0,
       "min": 0.0,
       "orientation": "horizontal",
       "style": "IPY_MODEL_3efdef3c3ba74e8d81ecbd5bb3ad2b60",
       "value": 553433881.0
      }
     },
     "66e3dbd7a4fc4f1194f3ed1152408649": {
      "model_module": "@jupyter-widgets/controls",
      "model_module_version": "1.5.0",
      "model_name": "DescriptionStyleModel",
      "state": {
       "_model_module": "@jupyter-widgets/controls",
       "_model_module_version": "1.5.0",
       "_model_name": "DescriptionStyleModel",
       "_view_count": null,
       "_view_module": "@jupyter-widgets/base",
       "_view_module_version": "1.2.0",
       "_view_name": "StyleView",
       "description_width": ""
      }
     },
     "817b7cb9a2c54dfebb62bf3eec46841a": {
      "model_module": "@jupyter-widgets/controls",
      "model_module_version": "1.5.0",
      "model_name": "DescriptionStyleModel",
      "state": {
       "_model_module": "@jupyter-widgets/controls",
       "_model_module_version": "1.5.0",
       "_model_name": "DescriptionStyleModel",
       "_view_count": null,
       "_view_module": "@jupyter-widgets/base",
       "_view_module_version": "1.2.0",
       "_view_name": "StyleView",
       "description_width": ""
      }
     },
     "af065b25c33d4e7ab9ccf1618ff7ccd5": {
      "model_module": "@jupyter-widgets/base",
      "model_module_version": "1.2.0",
      "model_name": "LayoutModel",
      "state": {
       "_model_module": "@jupyter-widgets/base",
       "_model_module_version": "1.2.0",
       "_model_name": "LayoutModel",
       "_view_count": null,
       "_view_module": "@jupyter-widgets/base",
       "_view_module_version": "1.2.0",
       "_view_name": "LayoutView",
       "align_content": null,
       "align_items": null,
       "align_self": null,
       "border": null,
       "bottom": null,
       "display": null,
       "flex": null,
       "flex_flow": null,
       "grid_area": null,
       "grid_auto_columns": null,
       "grid_auto_flow": null,
       "grid_auto_rows": null,
       "grid_column": null,
       "grid_gap": null,
       "grid_row": null,
       "grid_template_areas": null,
       "grid_template_columns": null,
       "grid_template_rows": null,
       "height": null,
       "justify_content": null,
       "justify_items": null,
       "left": null,
       "margin": null,
       "max_height": null,
       "max_width": null,
       "min_height": null,
       "min_width": null,
       "object_fit": null,
       "object_position": null,
       "order": null,
       "overflow": null,
       "overflow_x": null,
       "overflow_y": null,
       "padding": null,
       "right": null,
       "top": null,
       "visibility": null,
       "width": null
      }
     },
     "dbed823d5e3a4c71aa6d8c5a4316b311": {
      "model_module": "@jupyter-widgets/controls",
      "model_module_version": "1.5.0",
      "model_name": "HTMLModel",
      "state": {
       "_dom_classes": [],
       "_model_module": "@jupyter-widgets/controls",
       "_model_module_version": "1.5.0",
       "_model_name": "HTMLModel",
       "_view_count": null,
       "_view_module": "@jupyter-widgets/controls",
       "_view_module_version": "1.5.0",
       "_view_name": "HTMLView",
       "description": "",
       "description_tooltip": null,
       "layout": "IPY_MODEL_fafe3000153e48d9a92bddd973b1e60e",
       "placeholder": "​",
       "style": "IPY_MODEL_66e3dbd7a4fc4f1194f3ed1152408649",
       "value": " 528M/528M [00:36&lt;00:00, 16.5MB/s]"
      }
     },
     "fafe3000153e48d9a92bddd973b1e60e": {
      "model_module": "@jupyter-widgets/base",
      "model_module_version": "1.2.0",
      "model_name": "LayoutModel",
      "state": {
       "_model_module": "@jupyter-widgets/base",
       "_model_module_version": "1.2.0",
       "_model_name": "LayoutModel",
       "_view_count": null,
       "_view_module": "@jupyter-widgets/base",
       "_view_module_version": "1.2.0",
       "_view_name": "LayoutView",
       "align_content": null,
       "align_items": null,
       "align_self": null,
       "border": null,
       "bottom": null,
       "display": null,
       "flex": null,
       "flex_flow": null,
       "grid_area": null,
       "grid_auto_columns": null,
       "grid_auto_flow": null,
       "grid_auto_rows": null,
       "grid_column": null,
       "grid_gap": null,
       "grid_row": null,
       "grid_template_areas": null,
       "grid_template_columns": null,
       "grid_template_rows": null,
       "height": null,
       "justify_content": null,
       "justify_items": null,
       "left": null,
       "margin": null,
       "max_height": null,
       "max_width": null,
       "min_height": null,
       "min_width": null,
       "object_fit": null,
       "object_position": null,
       "order": null,
       "overflow": null,
       "overflow_x": null,
       "overflow_y": null,
       "padding": null,
       "right": null,
       "top": null,
       "visibility": null,
       "width": null
      }
     }
    },
    "version_major": 2,
    "version_minor": 0
   }
  }
 },
 "nbformat": 4,
 "nbformat_minor": 5
}
